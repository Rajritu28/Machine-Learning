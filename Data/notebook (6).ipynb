{
  "cells": [
    {
      "metadata": {
        "_uuid": "18c7f07735ee0976b4f401e6c689b07629502450",
        "_cell_guid": "8caa6fb6-9bef-4d51-aae5-8c61950a231e"
      },
      "cell_type": "markdown",
      "source": "# Bureau of Labor Statistics: Processing Producer Price Index\n_By Nick Brooks, Date: December 2017_\n\n## Content\n1. [Reading Multiple Files](#p1)\n1. Regular Expressions\n1. [New Variables: Age (how long since present), Minimum (Starting Year)](#p3)\n1. [Datetime Conversion](#p4)\n1. [Merging datasets by ID to append important categorizing information](#p5)\n1. [Normalize: Calculate value difference by Series_ID](#p6)\n1. [Data Visualization](#p7)"
    },
    {
      "metadata": {
        "_uuid": "305ee1d4738564b48e7b096f825070e8c60bd7fc",
        "collapsed": true,
        "_cell_guid": "ee64e421-7c8d-4fe2-9f84-5a46dab4458e",
        "trusted": true
      },
      "cell_type": "code",
      "source": "# General\nimport numpy as np # linear algebra\nimport pandas as pd # data processing, CSV file I/O (e.g. pd.read_csv)\nimport re\nimport os \n\n# Viz\nimport seaborn as sns\nimport matplotlib.pyplot as plt\n%matplotlib inline\n\n# Warnings OFF\nimport warnings\nwarnings.filterwarnings('ignore')",
      "execution_count": 1,
      "outputs": []
    },
    {
      "metadata": {
        "_uuid": "ce781bcb34ad0a988160adc6cba269b7073e55ae",
        "collapsed": true,
        "_cell_guid": "8a8173e9-c2ea-47ed-b359-9898496535dc",
        "trusted": true
      },
      "cell_type": "code",
      "source": "# File Names\nppi_df = pd.DataFrame(os.listdir('../input/ppi/'), columns=[\"name\"])\n\n# Determine file purpose (prices or supportive files)\nppi_df[\"type\"] = ppi_df.name.apply(lambda x: x.split('.')[1])\n\n# Extract Industry Name\nppi_df[\"industry\"] = \"none\"\nppi_df[\"industry\"] = ppi_df.loc[ppi_df.type == \"data\",\"name\"].apply(lambda x: x.split('.')[3])",
      "execution_count": 2,
      "outputs": []
    },
    {
      "metadata": {
        "_uuid": "af0df0748d71e2e39b490e5ea1634dd006483574",
        "_cell_guid": "de7d4d63-97f8-4102-8808-ae4848ec67b9"
      },
      "cell_type": "markdown",
      "source": "## Reading Multiple Files and Concatenate\n<a id=\"ch1\"></a>"
    },
    {
      "metadata": {
        "_uuid": "b5f1e8f6219d7220f88c89acb693de171b6825ee",
        "_cell_guid": "82369465-bf70-4e86-9afa-1f4f8c1336eb",
        "trusted": true
      },
      "cell_type": "code",
      "source": "# Read Name and Industry Name\nindus_file = ppi_df.loc[ppi_df.type == \"data\",[\"name\",\"industry\"]]\n\nout = pd.DataFrame(index=None)\nfor index, row in indus_file.iterrows():\n    df = pd.read_csv(\"../input/ppi/{}\".format(row[0]),\n                               usecols=[\"series_id\",\"year\",\"period\",\"value\"])\n    df[\"industry\"] = row[1]\n    df.period = df.period.str.replace(\"M\",\"\").astype(int)\n    out = pd.concat([out, df], axis=0)\nout.shape",
      "execution_count": 3,
      "outputs": [
        {
          "output_type": "execute_result",
          "execution_count": 3,
          "data": {
            "text/plain": "(2250958, 5)"
          },
          "metadata": {}
        }
      ]
    },
    {
      "metadata": {
        "_uuid": "39e72160dda29590e0a2306d152592a966ce8120",
        "_cell_guid": "ccb7602a-1b4f-4cd4-b509-6b5940445698"
      },
      "cell_type": "markdown",
      "source": "## New Variables: Age (how long since present), Minimum (Starting Year)\n<a id=\"ch3\"></a>"
    },
    {
      "metadata": {
        "_uuid": "771ab9c1f3cf64e66b5f92c708c59886a2ac9cb6",
        "collapsed": true,
        "_cell_guid": "46b0e214-6b97-4cad-a75e-894f094daa7b",
        "trusted": true
      },
      "cell_type": "code",
      "source": "# Find minimum by Year\nout[\"minimum\"] = 'none'\nindus_min = []\n# Loop by Industry\nfor x in out.industry.unique():\n    # Minimum\n    mini = out.loc[out.industry==\"Wood\", \"year\"].min()\n    # List of Minimums\n    indus_min.append([x,mini])\n    # Variable\n    out.minimum[out.industry==x] = mini\nindus_min= pd.DataFrame(indus_min, columns=[\"Industry\",\"MinimumYear\"])\n\n# Time from present\nout[\"frompresent\"]= (2017 - out.year)\nout['age'] = (out.year - out.minimum)",
      "execution_count": 4,
      "outputs": []
    },
    {
      "metadata": {
        "_uuid": "2bfd8a59809163342bba1ff508b91b4822d220d0",
        "_cell_guid": "1da8669b-d33f-4d03-9c7e-8cd2b97b2722"
      },
      "cell_type": "markdown",
      "source": "## Datetime Conversion\n<a id=\"ch4\"></a>"
    },
    {
      "metadata": {
        "_uuid": "838322027dc1eb1a99609917e26a8086c391fadf",
        "collapsed": true,
        "_cell_guid": "b08a93e3-668b-42ad-bc9e-1f85ddab9652",
        "trusted": true
      },
      "cell_type": "code",
      "source": "# Annual Aggregates\naggregate = out.loc[out.period>12,:]\n\n# Remove Aggregates, saved under month 13, to convert to date time\nout = out[out.period != 13]\n\n# Convert to pandas datetime format\nout.loc[:,'date'] = pd.to_datetime(out.apply(\n    lambda x:'%s-%s-01' % (x['year'],x['period']),axis=1))",
      "execution_count": 5,
      "outputs": []
    },
    {
      "metadata": {
        "scrolled": true,
        "_uuid": "9c70ed813e09c182f83e81e8d9dfddb5d346aab7",
        "_cell_guid": "87d910e7-3281-433c-9848-da8154050d2c",
        "trusted": true
      },
      "cell_type": "code",
      "source": "# View Supportive Files\nhelper_file = ppi_df.loc[(ppi_df.type != \"data\") &\n    (~ppi_df['name'].isin([\"pc.contacts\",\"pc.txt\"])),[\"name\"]]\n\nprint(ppi_df.loc[ppi_df.type!= \"data\",[\"name\",\"type\"]])\n\nfor index, row in helper_file.iterrows():\n    print(\"\\n\",row[0])\n    df = pd.read_csv(\"../input/ppi/{}\".format(row[0]))\n    print(df.head())",
      "execution_count": 6,
      "outputs": [
        {
          "output_type": "stream",
          "text": "               name      type\n8   pc.industry.csv  industry\n16           pc.txt       txt\n18      pc.contacts  contacts\n22  pc.footnote.csv  footnote\n23    pc.series.csv    series\n62    pc.period.csv    period\n64   pc.product.csv   product\n\n pc.industry.csv\n  Unnamed: 0           industry_code  industry_name\n0     1133--                 Logging            NaN\n1     11331-                 Logging            NaN\n2     113310                 Logging            NaN\n3     211---  Oil and gas extraction            NaN\n4     2111--  Oil and gas extraction            NaN\n\n pc.footnote.csv\n  Unnamed: 0                                      footnote_code  footnote_text\n0          P  Preliminary. All indexes are subject to revisi...            NaN\n1          R                                            Revised            NaN\n\n pc.series.csv\n   Unnamed: 0                       series_id industry_code product_code  \\\n0           0  PCU1133--1133--                       1133--       1133--   \n1           1  PCU11331-11331-                       11331-       11331-   \n2           2  PCU113310113310                       113310       113310   \n3           3  PCU113310113310M                      113310      113310M   \n4           4  PCU113310113310MM                     113310     113310MM   \n\n  seasonal  base_date footnote_codes  begin_year begin_period  end_year  \\\n0        U     198112                       1981          M12      2017   \n1        U     198112                       1981          M12      2017   \n2        U     198112                       1981          M12      2017   \n3        U     198606                       1986          M06      2017   \n4        U     198606                       1986          M06      1998   \n\n  end_period  \n0        M07  \n1        M07  \n2        M07  \n3        M07  \n4        M08  \n\n pc.period.csv\n   Unnamed: 0 period period_abbr period_name\n0           0    M01         JAN     January\n1           1    M02         FEB    February\n2           2    M03         MAR       March\n3           3    M04         APR       April\n4           4    M05         MAY         May\n\n pc.product.csv\n  Unnamed: 0 industry_code            product_code  product_name\n0     1133--        1133--                 Logging           NaN\n1     11331-        11331-                 Logging           NaN\n2     113310        113310                 Logging           NaN\n3     113310       113310M  Miscellaneous receipts           NaN\n4     113310      113310MM  Miscellaneous receipts           NaN\n",
          "name": "stdout"
        }
      ]
    },
    {
      "metadata": {
        "_uuid": "f435d5c9fef595c6fbd1243847cb6db6f729d831",
        "collapsed": true,
        "_cell_guid": "b210ef88-22cb-405e-982e-e205a720e0d2",
        "trusted": true
      },
      "cell_type": "code",
      "source": "# Load Helper Files to ID product types\nseries = pd.read_csv(\"../input/ppi/pc.series.csv\",index_col=0)\nindustry = pd.read_csv(\"../input/ppi/pc.industry.csv\").iloc[:,0:2]\nindustry.columns = [\"industry_code\",\"industry_name\"]\nproduct = pd.read_csv(\"../input/ppi/pc.product.csv\").iloc[:,0:3]\nproduct.columns = [\"industry_code\",\"product_code\",\"product_name\"]",
      "execution_count": 7,
      "outputs": []
    },
    {
      "metadata": {
        "_uuid": "c1cca72ee5d727a8edda6744c25f90b601667c86",
        "_cell_guid": "4417e3ce-b897-4c91-87b6-1961923b59d7"
      },
      "cell_type": "markdown",
      "source": "## Merging datasets by ID to append important categorizing information\n<a id=\"ch5\"></a>"
    },
    {
      "metadata": {
        "_uuid": "152e2ccdc2d72f7301b5ddc07c41fb6429653cd9",
        "collapsed": true,
        "_cell_guid": "b2b13179-3bde-44b2-bdd0-bf75d0e66c0b",
        "trusted": true
      },
      "cell_type": "code",
      "source": "# oh baby a triple\ndata = pd.merge(\n        pd.merge(series.iloc[:,0:3],\n             pd.merge(product, industry,\n                      on='industry_code', how='outer'),\n                 on=[\"industry_code\",\"product_code\"], how=\"outer\"),\n        out, on=\"series_id\", how=\"right\", suffixes=[\"sup\", \" \"])\n\n# Series_id has empty spaces at the end.\ndata.series_id = [x.replace(\" \", \"\") for x in data.series_id ]",
      "execution_count": 8,
      "outputs": []
    },
    {
      "metadata": {
        "_uuid": "be2c25d10f06a6ae67bc12c70cb9a45cf615b745",
        "_cell_guid": "9db1c666-d5d4-4767-939e-1126051f6c1c",
        "trusted": true
      },
      "cell_type": "code",
      "source": "data.sample(15)",
      "execution_count": 9,
      "outputs": [
        {
          "output_type": "execute_result",
          "execution_count": 9,
          "data": {
            "text/plain": "                 series_id industry_code product_code  \\\n1494711   PCU336320336320M        336320      336320M   \n759910    PCU325998325998J        325998      325998J   \n1460051   PCU3359913359913        335991      3359913   \n1877195    PCU51119-51119-        51119-       51119-   \n1633445    PCU33993-33993-        33993-       33993-   \n833708    PCU3271203271204        327120      3271204   \n1000357   PCU3323123323121        332312      3323121   \n548216    PCU3222203222202        322220      3222202   \n682391     PCU325412325412        325412       325412   \n235415    PCU311611311611J        311611      311611J   \n430322    PCU3152203152208        315220      3152208   \n415077   PCU31519031519017        315190     31519017   \n2024299    PCU6215--6215--        6215--       6215--   \n1255637   PCU3339123339127        333912      3339127   \n1611337  PCU33911333911321        339113     33911321   \n\n                                              product_name  \\\n1494711                             Miscellaneous receipts   \n759910   All other chemical preparations, incl. essenti...   \n1460051             All other carbon and graphite products   \n1877195                                   Other publishers   \n1633445                               Doll, toy & game mfg   \n833708                                   Clay refractories   \n1000357  Fabricated structural metal bar joists and con...   \n548216                          Coated and laminated paper   \n682391            Pharmaceutical preparation manufacturing   \n235415   Sausage/similar products, exc. canned, slaught...   \n430322                     Men's and boys' other outerwear   \n415077   Men's and boys' knit dress and sport shirts, m...   \n2024299                Medical and diagnostic laboratories   \n1255637                      Industrial spraying equipment   \n1611337                        Artificial joints and limbs   \n\n                                             industry_name  year  period  \\\n1494711  Motor vehicle electrical and electronic equipm...  2006       2   \n759910           Other miscellaneous chemical product mfg.  1995       2   \n1460051                    Carbon and graphite product mfg  2009       9   \n1877195                                   Other publishers  2007       3   \n1633445                               Doll, toy & game mfg  2008      12   \n833708   Clay building material and refractories manufa...  2005       1   \n1000357                    Fabricated structural metal mfg  2008       6   \n548216   Paper bag and coated and treated paper manufac...  2010       5   \n682391            Pharmaceutical preparation manufacturing  2002       3   \n235415                Animal, except poultry, slaughtering  1976      11   \n430322   Men's and boys' cut and sew apparel manufacturing  2006       6   \n415077                        Other apparel knitting mills  1998       6   \n2024299                Medical and diagnostic laboratories  2003      12   \n1255637                         Air and gas compressor mfg  2007       3   \n1611337                Surgical appliance and supplies mfg  2004       2   \n\n         value                      industry minimum  frompresent age  \\\n1494711  133.0                       Current    1967           11  39   \n759910   122.0                     Chemicals    1967           22  28   \n1460051  118.7           ElectricalMachinery    1967            8  42   \n1877195  107.6                       Current    1967           10  40   \n1633445  109.5                       Current    1967            9  41   \n833708   105.7                       Current    1967           12  38   \n1000357  203.5                       Current    1967            9  41   \n548216   123.3                         Paper    1967            7  43   \n682391   323.7                       Current    1967           15  35   \n235415    57.8                          Food    1967           41   9   \n430322   122.9                       Current    1967           11  39   \n415077   127.1                       Apparel    1967           19  31   \n2024299  100.0  AmbulatoryHealthCareServices    1967           14  36   \n1255637  160.4                     Machinery    1967           10  40   \n1611337  279.8                       Current    1967           13  37   \n\n              date  \n1494711 2006-02-01  \n759910  1995-02-01  \n1460051 2009-09-01  \n1877195 2007-03-01  \n1633445 2008-12-01  \n833708  2005-01-01  \n1000357 2008-06-01  \n548216  2010-05-01  \n682391  2002-03-01  \n235415  1976-11-01  \n430322  2006-06-01  \n415077  1998-06-01  \n2024299 2003-12-01  \n1255637 2007-03-01  \n1611337 2004-02-01  ",
            "text/html": "<div>\n<style>\n    .dataframe thead tr:only-child th {\n        text-align: right;\n    }\n\n    .dataframe thead th {\n        text-align: left;\n    }\n\n    .dataframe tbody tr th {\n        vertical-align: top;\n    }\n</style>\n<table border=\"1\" class=\"dataframe\">\n  <thead>\n    <tr style=\"text-align: right;\">\n      <th></th>\n      <th>series_id</th>\n      <th>industry_code</th>\n      <th>product_code</th>\n      <th>product_name</th>\n      <th>industry_name</th>\n      <th>year</th>\n      <th>period</th>\n      <th>value</th>\n      <th>industry</th>\n      <th>minimum</th>\n      <th>frompresent</th>\n      <th>age</th>\n      <th>date</th>\n    </tr>\n  </thead>\n  <tbody>\n    <tr>\n      <th>1494711</th>\n      <td>PCU336320336320M</td>\n      <td>336320</td>\n      <td>336320M</td>\n      <td>Miscellaneous receipts</td>\n      <td>Motor vehicle electrical and electronic equipm...</td>\n      <td>2006</td>\n      <td>2</td>\n      <td>133.0</td>\n      <td>Current</td>\n      <td>1967</td>\n      <td>11</td>\n      <td>39</td>\n      <td>2006-02-01</td>\n    </tr>\n    <tr>\n      <th>759910</th>\n      <td>PCU325998325998J</td>\n      <td>325998</td>\n      <td>325998J</td>\n      <td>All other chemical preparations, incl. essenti...</td>\n      <td>Other miscellaneous chemical product mfg.</td>\n      <td>1995</td>\n      <td>2</td>\n      <td>122.0</td>\n      <td>Chemicals</td>\n      <td>1967</td>\n      <td>22</td>\n      <td>28</td>\n      <td>1995-02-01</td>\n    </tr>\n    <tr>\n      <th>1460051</th>\n      <td>PCU3359913359913</td>\n      <td>335991</td>\n      <td>3359913</td>\n      <td>All other carbon and graphite products</td>\n      <td>Carbon and graphite product mfg</td>\n      <td>2009</td>\n      <td>9</td>\n      <td>118.7</td>\n      <td>ElectricalMachinery</td>\n      <td>1967</td>\n      <td>8</td>\n      <td>42</td>\n      <td>2009-09-01</td>\n    </tr>\n    <tr>\n      <th>1877195</th>\n      <td>PCU51119-51119-</td>\n      <td>51119-</td>\n      <td>51119-</td>\n      <td>Other publishers</td>\n      <td>Other publishers</td>\n      <td>2007</td>\n      <td>3</td>\n      <td>107.6</td>\n      <td>Current</td>\n      <td>1967</td>\n      <td>10</td>\n      <td>40</td>\n      <td>2007-03-01</td>\n    </tr>\n    <tr>\n      <th>1633445</th>\n      <td>PCU33993-33993-</td>\n      <td>33993-</td>\n      <td>33993-</td>\n      <td>Doll, toy &amp; game mfg</td>\n      <td>Doll, toy &amp; game mfg</td>\n      <td>2008</td>\n      <td>12</td>\n      <td>109.5</td>\n      <td>Current</td>\n      <td>1967</td>\n      <td>9</td>\n      <td>41</td>\n      <td>2008-12-01</td>\n    </tr>\n    <tr>\n      <th>833708</th>\n      <td>PCU3271203271204</td>\n      <td>327120</td>\n      <td>3271204</td>\n      <td>Clay refractories</td>\n      <td>Clay building material and refractories manufa...</td>\n      <td>2005</td>\n      <td>1</td>\n      <td>105.7</td>\n      <td>Current</td>\n      <td>1967</td>\n      <td>12</td>\n      <td>38</td>\n      <td>2005-01-01</td>\n    </tr>\n    <tr>\n      <th>1000357</th>\n      <td>PCU3323123323121</td>\n      <td>332312</td>\n      <td>3323121</td>\n      <td>Fabricated structural metal bar joists and con...</td>\n      <td>Fabricated structural metal mfg</td>\n      <td>2008</td>\n      <td>6</td>\n      <td>203.5</td>\n      <td>Current</td>\n      <td>1967</td>\n      <td>9</td>\n      <td>41</td>\n      <td>2008-06-01</td>\n    </tr>\n    <tr>\n      <th>548216</th>\n      <td>PCU3222203222202</td>\n      <td>322220</td>\n      <td>3222202</td>\n      <td>Coated and laminated paper</td>\n      <td>Paper bag and coated and treated paper manufac...</td>\n      <td>2010</td>\n      <td>5</td>\n      <td>123.3</td>\n      <td>Paper</td>\n      <td>1967</td>\n      <td>7</td>\n      <td>43</td>\n      <td>2010-05-01</td>\n    </tr>\n    <tr>\n      <th>682391</th>\n      <td>PCU325412325412</td>\n      <td>325412</td>\n      <td>325412</td>\n      <td>Pharmaceutical preparation manufacturing</td>\n      <td>Pharmaceutical preparation manufacturing</td>\n      <td>2002</td>\n      <td>3</td>\n      <td>323.7</td>\n      <td>Current</td>\n      <td>1967</td>\n      <td>15</td>\n      <td>35</td>\n      <td>2002-03-01</td>\n    </tr>\n    <tr>\n      <th>235415</th>\n      <td>PCU311611311611J</td>\n      <td>311611</td>\n      <td>311611J</td>\n      <td>Sausage/similar products, exc. canned, slaught...</td>\n      <td>Animal, except poultry, slaughtering</td>\n      <td>1976</td>\n      <td>11</td>\n      <td>57.8</td>\n      <td>Food</td>\n      <td>1967</td>\n      <td>41</td>\n      <td>9</td>\n      <td>1976-11-01</td>\n    </tr>\n    <tr>\n      <th>430322</th>\n      <td>PCU3152203152208</td>\n      <td>315220</td>\n      <td>3152208</td>\n      <td>Men's and boys' other outerwear</td>\n      <td>Men's and boys' cut and sew apparel manufacturing</td>\n      <td>2006</td>\n      <td>6</td>\n      <td>122.9</td>\n      <td>Current</td>\n      <td>1967</td>\n      <td>11</td>\n      <td>39</td>\n      <td>2006-06-01</td>\n    </tr>\n    <tr>\n      <th>415077</th>\n      <td>PCU31519031519017</td>\n      <td>315190</td>\n      <td>31519017</td>\n      <td>Men's and boys' knit dress and sport shirts, m...</td>\n      <td>Other apparel knitting mills</td>\n      <td>1998</td>\n      <td>6</td>\n      <td>127.1</td>\n      <td>Apparel</td>\n      <td>1967</td>\n      <td>19</td>\n      <td>31</td>\n      <td>1998-06-01</td>\n    </tr>\n    <tr>\n      <th>2024299</th>\n      <td>PCU6215--6215--</td>\n      <td>6215--</td>\n      <td>6215--</td>\n      <td>Medical and diagnostic laboratories</td>\n      <td>Medical and diagnostic laboratories</td>\n      <td>2003</td>\n      <td>12</td>\n      <td>100.0</td>\n      <td>AmbulatoryHealthCareServices</td>\n      <td>1967</td>\n      <td>14</td>\n      <td>36</td>\n      <td>2003-12-01</td>\n    </tr>\n    <tr>\n      <th>1255637</th>\n      <td>PCU3339123339127</td>\n      <td>333912</td>\n      <td>3339127</td>\n      <td>Industrial spraying equipment</td>\n      <td>Air and gas compressor mfg</td>\n      <td>2007</td>\n      <td>3</td>\n      <td>160.4</td>\n      <td>Machinery</td>\n      <td>1967</td>\n      <td>10</td>\n      <td>40</td>\n      <td>2007-03-01</td>\n    </tr>\n    <tr>\n      <th>1611337</th>\n      <td>PCU33911333911321</td>\n      <td>339113</td>\n      <td>33911321</td>\n      <td>Artificial joints and limbs</td>\n      <td>Surgical appliance and supplies mfg</td>\n      <td>2004</td>\n      <td>2</td>\n      <td>279.8</td>\n      <td>Current</td>\n      <td>1967</td>\n      <td>13</td>\n      <td>37</td>\n      <td>2004-02-01</td>\n    </tr>\n  </tbody>\n</table>\n</div>"
          },
          "metadata": {}
        }
      ]
    },
    {
      "metadata": {
        "_uuid": "aa9d74d0da1bce66500766251c27c57a7ac42958",
        "_cell_guid": "38dd3f25-41ce-4970-ad04-007ceaf7c2e2",
        "trusted": true
      },
      "cell_type": "code",
      "source": "[print(y, x.shape) for (x,y) in [(industry, 'industry_df'), (product, 'product_df'),\n                                 (industry, 'industry_df'),(out, 'main_dataset')]]\nprint(\"\\nUnique Categories:\")\nprint(\"Unique Product Category Count:\", len(product.product_name.unique()))\nprint(\"Unique Industry Category Count:\", len(industry.industry_name.unique()))\nprint(\"Data Unique Industry Count:\", len(out.industry.unique()))\nprint(\"\\nOuter-Merged Dataset:\")\n[print(\"{}:\".format(x), len(data[x].unique()))for x in [\"product_name\",\"industry_name\",\"industry\"]]\nprint(\"shape:\", data.shape)\nprint(\"\\nMissing? \", data.isnull().values.any())\n\ndel out, series, industry, product",
      "execution_count": 10,
      "outputs": [
        {
          "output_type": "stream",
          "text": "industry_df (1064, 2)\nproduct_df (5172, 3)\nindustry_df (1064, 2)\nmain_dataset (2086023, 9)\n\nUnique Categories:\nUnique Product Category Count: 3472\nUnique Industry Category Count: 845\nData Unique Industry Count: 71\n\nOuter-Merged Dataset:\nproduct_name: 3472\nindustry_name: 845\nindustry: 71\nshape: (2086023, 13)\n\nMissing?  False\n",
          "name": "stdout"
        }
      ]
    },
    {
      "metadata": {
        "_uuid": "e278b610a80500b1bf6c2ef7ea63a27fb4d4ae31",
        "_cell_guid": "73972b7e-60dd-40ef-88d7-b4c234783a21",
        "trusted": true
      },
      "cell_type": "code",
      "source": "current = data[data.industry==\"Current\"]\nprint(\"'Current' Industry:\")\nprint(\"Observation Count:\", current.shape[0])\nprint(\"Unique Sub-Industries:\", len(current.industry_name.unique()))\nprint(\"Unique Products:\", len(current.product_name.unique()))",
      "execution_count": 11,
      "outputs": [
        {
          "output_type": "stream",
          "text": "'Current' Industry:\nObservation Count: 827627\nUnique Sub-Industries: 845\nUnique Products: 3465\n",
          "name": "stdout"
        }
      ]
    },
    {
      "metadata": {
        "_uuid": "a8a7b8d49d8551fa7822b48473dd6606ca3a4040",
        "_cell_guid": "91d13df4-dd8b-4df3-9fb5-d5074362da7a",
        "trusted": true
      },
      "cell_type": "code",
      "source": "# Show the sub-industries and sub-products\nindustry_unique = pd.DataFrame()\nfor x in data.industry.unique():\n    industry_unique = industry_unique.append({\"Industry\": x,\n                                              \"Sub-Industries\": len(data[data.industry==x].industry_name.unique()),\n                                              \"Total Products\": len(data[data.industry==x].product_name.unique())},\n                                            ignore_index=True)\n    #print(x, len(data[data.industry==x].industry_name.unique()), len(data[data.industry==x].product_name.unique()))\n    \nindustry_unique.sort_values(by=[\"Total Products\"], ascending=False, inplace=True)\nindustry_unique.reset_index(drop=True, inplace=True)\npd.concat([industry_unique[:35], industry_unique[35:].reset_index(drop=True)], axis=1)",
      "execution_count": 12,
      "outputs": [
        {
          "output_type": "execute_result",
          "execution_count": 12,
          "data": {
            "text/plain": "                        Industry  Sub-Industries  Total Products  \\\n0                        Current           845.0          3465.0   \n1                      Machinery            55.0           291.0   \n2                           Food            70.0           285.0   \n3                      Chemicals            51.0           234.0   \n4         FabricatedMetalProduct            53.0           228.0   \n5        TransportationEquipment            36.0           159.0   \n6                   PrimaryMetal            30.0           125.0   \n7             NonmetallicMineral            28.0           111.0   \n8                  Miscellaneous            23.0           108.0   \n9         PlasticsRubberProducts            28.0           105.0   \n10               ComputerProduct            33.0           102.0   \n11           ElectricalMachinery            29.0           102.0   \n12                       Apparel            12.0           101.0   \n13                         Paper            19.0            92.0   \n14                          Wood            20.0            82.0   \n15                     Furniture            19.0            77.0   \n16                        Mining            28.0            76.0   \n17                       Textile            10.0            74.0   \n18  AmbulatoryHealthCareServices             9.0            69.0   \n19                     Hospitals             5.0            63.0   \n20                      Printing             6.0            61.0   \n21                     Utilities             7.0            59.0   \n22  ProfessionalandTechnicalServ            10.0            51.0   \n23             InsuranceCarriers             8.0            50.0   \n24                    Publishing            10.0            49.0   \n25               BeverageTobacco            11.0            47.0   \n26                TextileProduct             9.0            42.0   \n27                  Construction            12.0            42.0   \n28                       Finance             9.0            42.0   \n29         PetroleumCoalProducts             9.0            39.0   \n30           RecyclableMaterials             1.0            36.0   \n31            Telecommunications             3.0            35.0   \n32  AdministrativeandSupportServ             7.0            34.0   \n33           TruckTransportation            12.0            34.0   \n34                WholesaleTrade             3.0            32.0   \n35                           NaN             NaN             NaN   \n\n                         Industry  Sub-Industries  Total Products  \n0              FoodBeverageStores             6.0            29.0  \n1           TransportationSupport            11.0            28.0  \n2                      RealEstate             9.0            23.0  \n3                         Leather             6.0            22.0  \n4                   PostalService             1.0            22.0  \n5               SportsMusicStores            10.0            21.0  \n6               AirTransportation             7.0            21.0  \n7                   Accommodation             4.0            20.0  \n8        RentalandLeasingServices             6.0            18.0  \n9             MotorVehicleDealers             8.0            18.0  \n10                 ClothingStores             6.0            17.0  \n11                   Broadcasting             5.0            17.0  \n12                  MiningSupport             6.0            16.0  \n13    MiscellaneousStoreRetailers             6.0            15.0  \n14           BuildingGardenStores             9.0            15.0  \n15                     Recreation             3.0            14.0  \n16              NonstoreRetailers             4.0            14.0  \n17   ISPsSearchPortandDataProcess             3.0            14.0  \n18            WaterTransportation             5.0            13.0  \n19                      OilAndGas             3.0            13.0  \n20                     aggregates            13.0            13.0  \n21    NursingResidentialCareFacil             2.0            12.0  \n22                   HealthStores             4.0            12.0  \n23                  GeneralStores             5.0            11.0  \n24  PremiumsforPropandCasualtyIns             1.0            11.0  \n25          CouriersAndMessengers             3.0            10.0  \n26              ElectronicsStores             3.0            10.0  \n27             WarehousingStorage             4.0             9.0  \n28             RailTransportation             2.0             9.0  \n29               GasolineStations             3.0             9.0  \n30         PipelineTransportation             4.0             7.0  \n31                  OtherServices             1.0             7.0  \n32                FurnitureStores             3.0             6.0  \n33     WasteMgtandRemediationServ             2.0             4.0  \n34            EducationalServices             1.0             4.0  \n35             ForestryandLogging             1.0             3.0  ",
            "text/html": "<div>\n<style>\n    .dataframe thead tr:only-child th {\n        text-align: right;\n    }\n\n    .dataframe thead th {\n        text-align: left;\n    }\n\n    .dataframe tbody tr th {\n        vertical-align: top;\n    }\n</style>\n<table border=\"1\" class=\"dataframe\">\n  <thead>\n    <tr style=\"text-align: right;\">\n      <th></th>\n      <th>Industry</th>\n      <th>Sub-Industries</th>\n      <th>Total Products</th>\n      <th>Industry</th>\n      <th>Sub-Industries</th>\n      <th>Total Products</th>\n    </tr>\n  </thead>\n  <tbody>\n    <tr>\n      <th>0</th>\n      <td>Current</td>\n      <td>845.0</td>\n      <td>3465.0</td>\n      <td>FoodBeverageStores</td>\n      <td>6.0</td>\n      <td>29.0</td>\n    </tr>\n    <tr>\n      <th>1</th>\n      <td>Machinery</td>\n      <td>55.0</td>\n      <td>291.0</td>\n      <td>TransportationSupport</td>\n      <td>11.0</td>\n      <td>28.0</td>\n    </tr>\n    <tr>\n      <th>2</th>\n      <td>Food</td>\n      <td>70.0</td>\n      <td>285.0</td>\n      <td>RealEstate</td>\n      <td>9.0</td>\n      <td>23.0</td>\n    </tr>\n    <tr>\n      <th>3</th>\n      <td>Chemicals</td>\n      <td>51.0</td>\n      <td>234.0</td>\n      <td>Leather</td>\n      <td>6.0</td>\n      <td>22.0</td>\n    </tr>\n    <tr>\n      <th>4</th>\n      <td>FabricatedMetalProduct</td>\n      <td>53.0</td>\n      <td>228.0</td>\n      <td>PostalService</td>\n      <td>1.0</td>\n      <td>22.0</td>\n    </tr>\n    <tr>\n      <th>5</th>\n      <td>TransportationEquipment</td>\n      <td>36.0</td>\n      <td>159.0</td>\n      <td>SportsMusicStores</td>\n      <td>10.0</td>\n      <td>21.0</td>\n    </tr>\n    <tr>\n      <th>6</th>\n      <td>PrimaryMetal</td>\n      <td>30.0</td>\n      <td>125.0</td>\n      <td>AirTransportation</td>\n      <td>7.0</td>\n      <td>21.0</td>\n    </tr>\n    <tr>\n      <th>7</th>\n      <td>NonmetallicMineral</td>\n      <td>28.0</td>\n      <td>111.0</td>\n      <td>Accommodation</td>\n      <td>4.0</td>\n      <td>20.0</td>\n    </tr>\n    <tr>\n      <th>8</th>\n      <td>Miscellaneous</td>\n      <td>23.0</td>\n      <td>108.0</td>\n      <td>RentalandLeasingServices</td>\n      <td>6.0</td>\n      <td>18.0</td>\n    </tr>\n    <tr>\n      <th>9</th>\n      <td>PlasticsRubberProducts</td>\n      <td>28.0</td>\n      <td>105.0</td>\n      <td>MotorVehicleDealers</td>\n      <td>8.0</td>\n      <td>18.0</td>\n    </tr>\n    <tr>\n      <th>10</th>\n      <td>ComputerProduct</td>\n      <td>33.0</td>\n      <td>102.0</td>\n      <td>ClothingStores</td>\n      <td>6.0</td>\n      <td>17.0</td>\n    </tr>\n    <tr>\n      <th>11</th>\n      <td>ElectricalMachinery</td>\n      <td>29.0</td>\n      <td>102.0</td>\n      <td>Broadcasting</td>\n      <td>5.0</td>\n      <td>17.0</td>\n    </tr>\n    <tr>\n      <th>12</th>\n      <td>Apparel</td>\n      <td>12.0</td>\n      <td>101.0</td>\n      <td>MiningSupport</td>\n      <td>6.0</td>\n      <td>16.0</td>\n    </tr>\n    <tr>\n      <th>13</th>\n      <td>Paper</td>\n      <td>19.0</td>\n      <td>92.0</td>\n      <td>MiscellaneousStoreRetailers</td>\n      <td>6.0</td>\n      <td>15.0</td>\n    </tr>\n    <tr>\n      <th>14</th>\n      <td>Wood</td>\n      <td>20.0</td>\n      <td>82.0</td>\n      <td>BuildingGardenStores</td>\n      <td>9.0</td>\n      <td>15.0</td>\n    </tr>\n    <tr>\n      <th>15</th>\n      <td>Furniture</td>\n      <td>19.0</td>\n      <td>77.0</td>\n      <td>Recreation</td>\n      <td>3.0</td>\n      <td>14.0</td>\n    </tr>\n    <tr>\n      <th>16</th>\n      <td>Mining</td>\n      <td>28.0</td>\n      <td>76.0</td>\n      <td>NonstoreRetailers</td>\n      <td>4.0</td>\n      <td>14.0</td>\n    </tr>\n    <tr>\n      <th>17</th>\n      <td>Textile</td>\n      <td>10.0</td>\n      <td>74.0</td>\n      <td>ISPsSearchPortandDataProcess</td>\n      <td>3.0</td>\n      <td>14.0</td>\n    </tr>\n    <tr>\n      <th>18</th>\n      <td>AmbulatoryHealthCareServices</td>\n      <td>9.0</td>\n      <td>69.0</td>\n      <td>WaterTransportation</td>\n      <td>5.0</td>\n      <td>13.0</td>\n    </tr>\n    <tr>\n      <th>19</th>\n      <td>Hospitals</td>\n      <td>5.0</td>\n      <td>63.0</td>\n      <td>OilAndGas</td>\n      <td>3.0</td>\n      <td>13.0</td>\n    </tr>\n    <tr>\n      <th>20</th>\n      <td>Printing</td>\n      <td>6.0</td>\n      <td>61.0</td>\n      <td>aggregates</td>\n      <td>13.0</td>\n      <td>13.0</td>\n    </tr>\n    <tr>\n      <th>21</th>\n      <td>Utilities</td>\n      <td>7.0</td>\n      <td>59.0</td>\n      <td>NursingResidentialCareFacil</td>\n      <td>2.0</td>\n      <td>12.0</td>\n    </tr>\n    <tr>\n      <th>22</th>\n      <td>ProfessionalandTechnicalServ</td>\n      <td>10.0</td>\n      <td>51.0</td>\n      <td>HealthStores</td>\n      <td>4.0</td>\n      <td>12.0</td>\n    </tr>\n    <tr>\n      <th>23</th>\n      <td>InsuranceCarriers</td>\n      <td>8.0</td>\n      <td>50.0</td>\n      <td>GeneralStores</td>\n      <td>5.0</td>\n      <td>11.0</td>\n    </tr>\n    <tr>\n      <th>24</th>\n      <td>Publishing</td>\n      <td>10.0</td>\n      <td>49.0</td>\n      <td>PremiumsforPropandCasualtyIns</td>\n      <td>1.0</td>\n      <td>11.0</td>\n    </tr>\n    <tr>\n      <th>25</th>\n      <td>BeverageTobacco</td>\n      <td>11.0</td>\n      <td>47.0</td>\n      <td>CouriersAndMessengers</td>\n      <td>3.0</td>\n      <td>10.0</td>\n    </tr>\n    <tr>\n      <th>26</th>\n      <td>TextileProduct</td>\n      <td>9.0</td>\n      <td>42.0</td>\n      <td>ElectronicsStores</td>\n      <td>3.0</td>\n      <td>10.0</td>\n    </tr>\n    <tr>\n      <th>27</th>\n      <td>Construction</td>\n      <td>12.0</td>\n      <td>42.0</td>\n      <td>WarehousingStorage</td>\n      <td>4.0</td>\n      <td>9.0</td>\n    </tr>\n    <tr>\n      <th>28</th>\n      <td>Finance</td>\n      <td>9.0</td>\n      <td>42.0</td>\n      <td>RailTransportation</td>\n      <td>2.0</td>\n      <td>9.0</td>\n    </tr>\n    <tr>\n      <th>29</th>\n      <td>PetroleumCoalProducts</td>\n      <td>9.0</td>\n      <td>39.0</td>\n      <td>GasolineStations</td>\n      <td>3.0</td>\n      <td>9.0</td>\n    </tr>\n    <tr>\n      <th>30</th>\n      <td>RecyclableMaterials</td>\n      <td>1.0</td>\n      <td>36.0</td>\n      <td>PipelineTransportation</td>\n      <td>4.0</td>\n      <td>7.0</td>\n    </tr>\n    <tr>\n      <th>31</th>\n      <td>Telecommunications</td>\n      <td>3.0</td>\n      <td>35.0</td>\n      <td>OtherServices</td>\n      <td>1.0</td>\n      <td>7.0</td>\n    </tr>\n    <tr>\n      <th>32</th>\n      <td>AdministrativeandSupportServ</td>\n      <td>7.0</td>\n      <td>34.0</td>\n      <td>FurnitureStores</td>\n      <td>3.0</td>\n      <td>6.0</td>\n    </tr>\n    <tr>\n      <th>33</th>\n      <td>TruckTransportation</td>\n      <td>12.0</td>\n      <td>34.0</td>\n      <td>WasteMgtandRemediationServ</td>\n      <td>2.0</td>\n      <td>4.0</td>\n    </tr>\n    <tr>\n      <th>34</th>\n      <td>WholesaleTrade</td>\n      <td>3.0</td>\n      <td>32.0</td>\n      <td>EducationalServices</td>\n      <td>1.0</td>\n      <td>4.0</td>\n    </tr>\n    <tr>\n      <th>35</th>\n      <td>NaN</td>\n      <td>NaN</td>\n      <td>NaN</td>\n      <td>ForestryandLogging</td>\n      <td>1.0</td>\n      <td>3.0</td>\n    </tr>\n  </tbody>\n</table>\n</div>"
          },
          "metadata": {}
        }
      ]
    },
    {
      "metadata": {
        "_uuid": "7e81440b21eabbe57e735d25008634ef889c7fa3"
      },
      "cell_type": "markdown",
      "source": "##  Normalize: Calculate value difference by Series_ID \n<a id=\"p6\"></a>"
    },
    {
      "metadata": {
        "_cell_guid": "0353af25-f954-470e-a015-77f1eff21faf",
        "_uuid": "71072a38799ccfe7e18240d3449d86af8e60ca1d",
        "trusted": true,
        "collapsed": true
      },
      "cell_type": "code",
      "source": "# Calculate Difference by period and by Series_Id\ndata.set_index(\"date\", inplace=True)\ndata.sort_index(inplace=True)\ndata['value_diffs'] = data.groupby('series_id')['value'].transform(pd.Series.diff)",
      "execution_count": 13,
      "outputs": []
    },
    {
      "metadata": {
        "_uuid": "9e4dd6929b44369635ba39dd4baf1561eb29fa8e"
      },
      "cell_type": "markdown",
      "source": "## Exploratory Data Analysis\n<a id=\"p7\"></a>\n\nPlot value difference over time\n- histograms, or perhaps line plots by industry?"
    },
    {
      "metadata": {
        "trusted": true,
        "_uuid": "baedbcbd5d5aaf6ad1396e46d653f59169bd01ae"
      },
      "cell_type": "code",
      "source": "data.sample(5)",
      "execution_count": 25,
      "outputs": [
        {
          "output_type": "execute_result",
          "execution_count": 25,
          "data": {
            "text/plain": "                   series_id industry_code product_code  \\\ndate                                                      \n1995-03-01  PCU332911332911B        332911      332911B   \n2005-09-01   PCU483211483211        483211       483211   \n2013-03-01  PCU3273903273901        327390      3273901   \n2001-01-01  PCU5151105151101        515110      5151101   \n2016-06-01   PCU332913332913        332913       332913   \n\n                                         product_name  \\\ndate                                                    \n1995-03-01  All other miscellaneous industrial valves   \n2005-09-01        Inland water freight transportation   \n2013-03-01                  Precast concrete products   \n2001-01-01                     Radio station services   \n2016-06-01      Plumbing fixture fitting and trim mfg   \n\n                                    industry_name  year  period  value  \\\ndate                                                                     \n1995-03-01                   Industrial valve mfg  1995       3  115.1   \n2005-09-01    Inland water freight transportation  2005       9  164.3   \n2013-03-01   Other concrete product manufacturing  2013       3  253.4   \n2001-01-01                     Radio broadcasting  2001       1  172.2   \n2016-06-01  Plumbing fixture fitting and trim mfg  2016       6  269.3   \n\n                          industry minimum  frompresent age  value_diffs  \ndate                                                                      \n1995-03-01  FabricatedMetalProduct    1967           22  28          0.3  \n2005-09-01                 Current    1967           12  38         10.8  \n2013-03-01      NonmetallicMineral    1967            4  46          0.1  \n2001-01-01            Broadcasting    1967           16  34          0.0  \n2016-06-01                 Current    1967            1  49          0.0  ",
            "text/html": "<div>\n<style>\n    .dataframe thead tr:only-child th {\n        text-align: right;\n    }\n\n    .dataframe thead th {\n        text-align: left;\n    }\n\n    .dataframe tbody tr th {\n        vertical-align: top;\n    }\n</style>\n<table border=\"1\" class=\"dataframe\">\n  <thead>\n    <tr style=\"text-align: right;\">\n      <th></th>\n      <th>series_id</th>\n      <th>industry_code</th>\n      <th>product_code</th>\n      <th>product_name</th>\n      <th>industry_name</th>\n      <th>year</th>\n      <th>period</th>\n      <th>value</th>\n      <th>industry</th>\n      <th>minimum</th>\n      <th>frompresent</th>\n      <th>age</th>\n      <th>value_diffs</th>\n    </tr>\n    <tr>\n      <th>date</th>\n      <th></th>\n      <th></th>\n      <th></th>\n      <th></th>\n      <th></th>\n      <th></th>\n      <th></th>\n      <th></th>\n      <th></th>\n      <th></th>\n      <th></th>\n      <th></th>\n      <th></th>\n    </tr>\n  </thead>\n  <tbody>\n    <tr>\n      <th>1995-03-01</th>\n      <td>PCU332911332911B</td>\n      <td>332911</td>\n      <td>332911B</td>\n      <td>All other miscellaneous industrial valves</td>\n      <td>Industrial valve mfg</td>\n      <td>1995</td>\n      <td>3</td>\n      <td>115.1</td>\n      <td>FabricatedMetalProduct</td>\n      <td>1967</td>\n      <td>22</td>\n      <td>28</td>\n      <td>0.3</td>\n    </tr>\n    <tr>\n      <th>2005-09-01</th>\n      <td>PCU483211483211</td>\n      <td>483211</td>\n      <td>483211</td>\n      <td>Inland water freight transportation</td>\n      <td>Inland water freight transportation</td>\n      <td>2005</td>\n      <td>9</td>\n      <td>164.3</td>\n      <td>Current</td>\n      <td>1967</td>\n      <td>12</td>\n      <td>38</td>\n      <td>10.8</td>\n    </tr>\n    <tr>\n      <th>2013-03-01</th>\n      <td>PCU3273903273901</td>\n      <td>327390</td>\n      <td>3273901</td>\n      <td>Precast concrete products</td>\n      <td>Other concrete product manufacturing</td>\n      <td>2013</td>\n      <td>3</td>\n      <td>253.4</td>\n      <td>NonmetallicMineral</td>\n      <td>1967</td>\n      <td>4</td>\n      <td>46</td>\n      <td>0.1</td>\n    </tr>\n    <tr>\n      <th>2001-01-01</th>\n      <td>PCU5151105151101</td>\n      <td>515110</td>\n      <td>5151101</td>\n      <td>Radio station services</td>\n      <td>Radio broadcasting</td>\n      <td>2001</td>\n      <td>1</td>\n      <td>172.2</td>\n      <td>Broadcasting</td>\n      <td>1967</td>\n      <td>16</td>\n      <td>34</td>\n      <td>0.0</td>\n    </tr>\n    <tr>\n      <th>2016-06-01</th>\n      <td>PCU332913332913</td>\n      <td>332913</td>\n      <td>332913</td>\n      <td>Plumbing fixture fitting and trim mfg</td>\n      <td>Plumbing fixture fitting and trim mfg</td>\n      <td>2016</td>\n      <td>6</td>\n      <td>269.3</td>\n      <td>Current</td>\n      <td>1967</td>\n      <td>1</td>\n      <td>49</td>\n      <td>0.0</td>\n    </tr>\n  </tbody>\n</table>\n</div>"
          },
          "metadata": {}
        }
      ]
    },
    {
      "metadata": {
        "_kg_hide-input": true,
        "trusted": true,
        "_uuid": "a975db3c19b44bda7b33466acfd520b95d6a2ff8"
      },
      "cell_type": "code",
      "source": "#data.loc[(data[\"value_diffs\"] > 1000) | (data[\"value_diffs\"] < -1000), :]\ndata.loc[data.series_id== \"PCU33441333441312\", \"value_diffs\"].hist()",
      "execution_count": 14,
      "outputs": [
        {
          "output_type": "execute_result",
          "execution_count": 14,
          "data": {
            "text/plain": "<matplotlib.axes._subplots.AxesSubplot at 0x7f0578b10a58>"
          },
          "metadata": {}
        },
        {
          "output_type": "display_data",
          "data": {
            "text/plain": "<matplotlib.figure.Figure at 0x7f0578ab8668>",
            "image/png": "[encoded data removed]"
          },
          "metadata": {}
        }
      ]
    },
    {
      "metadata": {
        "trusted": true,
        "_uuid": "aa2365b7091eaff860bf245ac701f174523c5ec2"
      },
      "cell_type": "code",
      "source": "list(set(data.product_name[data.industry == \"ForestryandLogging\"]))",
      "execution_count": 28,
      "outputs": [
        {
          "output_type": "execute_result",
          "execution_count": 28,
          "data": {
            "text/plain": "['Primary products', 'Logging', 'Miscellaneous receipts']"
          },
          "metadata": {}
        }
      ]
    },
    {
      "metadata": {
        "trusted": true,
        "collapsed": true,
        "_uuid": "13fdb5eaff3a0953c33dc807c9cb7d1ea1766c51"
      },
      "cell_type": "code",
      "source": "# Try: Log, rolling average, aggregate by industry.. Correlate.\n# V1 \ncat = \"OilAndGas\"\nfor x in set(data.product_name[data.industry == cat]):\n    data.value_diffs[data.product_name == x].plot(alpha= 0.5, label = x, title=cat)\n    \nplt.legend(fontsize='large', loc='center left', bbox_to_anchor=(1, 0.5))\nplt.show()\n\n# V2",
      "execution_count": null,
      "outputs": []
    },
    {
      "metadata": {
        "trusted": true,
        "_uuid": "ef21ddcba62ca154e444f9632a485c048dca5251"
      },
      "cell_type": "code",
      "source": "cat = \"OilAndGas\"\nfor x in set(data.product_name[data.industry == cat]):\n    data.value_diffs[data.product_name == x].rolling(window = 12).mean()\\\n    .plot(alpha= 0.5, label = x, title=cat)\n    \nplt.legend(fontsize='large', loc='center left', bbox_to_anchor=(1, 0.5))\nplt.show()",
      "execution_count": null,
      "outputs": []
    },
    {
      "metadata": {
        "trusted": true,
        "_uuid": "023306ee69808c1c2b8beed815b56400cb6aba68"
      },
      "cell_type": "code",
      "source": "sns.tsplot(data.loc[data.industry== \"ForestryandLogging\", unit='Kind', condition='Company', value='Price')",
      "execution_count": 15,
      "outputs": [
        {
          "output_type": "error",
          "ename": "SyntaxError",
          "evalue": "invalid syntax (<ipython-input-15-3d8d2eb86450>, line 1)",
          "traceback": [
            "\u001b[0;36m  File \u001b[0;32m\"<ipython-input-15-3d8d2eb86450>\"\u001b[0;36m, line \u001b[0;32m1\u001b[0m\n\u001b[0;31m    sns.tsplot(data.loc[data.industry== \"ForestryandLogging\", unit='Kind', condition='Company', value='Price')\u001b[0m\n\u001b[0m                                                                  ^\u001b[0m\n\u001b[0;31mSyntaxError\u001b[0m\u001b[0;31m:\u001b[0m invalid syntax\n"
          ]
        }
      ]
    },
    {
      "metadata": {
        "trusted": true,
        "_uuid": "019c450673a74cffc1dcc323ddd7c59940593f44"
      },
      "cell_type": "code",
      "source": "data.loc[~(data.series_id == \"PCU33441333441312\"), [\"value_diffs\"]].plot(legend=False) #hist(bins=30)",
      "execution_count": null,
      "outputs": []
    },
    {
      "metadata": {
        "_cell_guid": "93641cbd-8665-4e3f-93c1-072b7dc62606",
        "_uuid": "a0398e747464b7fd83234d86e668b6333a7c226b",
        "trusted": true,
        "scrolled": true
      },
      "cell_type": "code",
      "source": "sns.kdeplot(data.loc[~(data.series_id == \"PCU33441333441312\"), [\"value_diffs\"]], shade=True);",
      "execution_count": null,
      "outputs": []
    },
    {
      "metadata": {
        "_cell_guid": "dcba0951-79bc-4f24-a1a7-1917f06dfc30",
        "_uuid": "0385c7fdd83f094ac90180f6cb6e2971b1b0c3b9",
        "trusted": true
      },
      "cell_type": "code",
      "source": "data[\"value_diffs\"].plot()",
      "execution_count": null,
      "outputs": []
    },
    {
      "metadata": {
        "_uuid": "098d041eac2d57211385ad380e6e802db5b34189",
        "_cell_guid": "9db3ad92-7016-4123-9b42-09185b1d9ae2"
      },
      "cell_type": "markdown",
      "source": "## Output Processed Data"
    },
    {
      "metadata": {
        "_uuid": "8ca568f91bab534e90ab5b8118f769520137fa19",
        "collapsed": true,
        "_cell_guid": "d450b83f-19f2-49b9-be3a-629a24eabe68",
        "trusted": true
      },
      "cell_type": "code",
      "source": "data.to_csv(\"Aggregated_BLS_Producer_Price.csv\")",
      "execution_count": null,
      "outputs": []
    }
  ],
  "metadata": {
    "kernelspec": {
      "display_name": "Python 3",
      "language": "python",
      "name": "python3"
    },
    "language_info": {
      "name": "python",
      "version": "3.6.4",
      "mimetype": "text/x-python",
      "codemirror_mode": {
        "name": "ipython",
        "version": 3
      },
      "pygments_lexer": "ipython3",
      "nbconvert_exporter": "python",
      "file_extension": ".py"
    }
  },
  "nbformat": 4,
  "nbformat_minor": 1
}