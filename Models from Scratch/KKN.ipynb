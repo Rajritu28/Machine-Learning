{
 "cells": [
  {
   "cell_type": "markdown",
   "metadata": {},
   "source": [
    "## K Nearest Neighbors\n",
    "\n",
    "https://www.kdnuggets.com/2016/01/implementing-your-own-knn-using-python.html/2"
   ]
  },
  {
   "cell_type": "code",
   "execution_count": 1,
   "metadata": {
    "collapsed": true
   },
   "outputs": [],
   "source": [
    "# Create random Dataset\n",
    "import random"
   ]
  },
  {
   "cell_type": "code",
   "execution_count": 2,
   "metadata": {},
   "outputs": [
    {
     "name": "stdout",
     "output_type": "stream",
     "text": [
      "[[6, 8, 1, 20, 15], [6, 5, 2, 16, 2], [5, 1, 17, 10, 13]]\n",
      "[[2], [2], [2]]\n"
     ]
    }
   ],
   "source": [
    "df = []\n",
    "for x in range(10):\n",
    "    realRandomVariates = []\n",
    "    label = []\n",
    "    for i in range(5):\n",
    "        newValue = random.randint(1,20)\n",
    "        realRandomVariates.append(newValue)\n",
    "    for i in range(1):\n",
    "        newlab = random.randint(1,2)\n",
    "        label.append(newlab)\n",
    "    #print(realRandomVariates,label)\n",
    "    df.append([realRandomVariates,label])\n",
    "train = df[:7]\n",
    "test = df [7:]\n",
    "X_test = []\n",
    "y_test = []\n",
    "for x in test:\n",
    "    X_test.append(x[0])\n",
    "    y_test.append(x[1])\n",
    "print(X_test)\n",
    "print(y_test)"
   ]
  },
  {
   "cell_type": "code",
   "execution_count": 3,
   "metadata": {
    "collapsed": true
   },
   "outputs": [],
   "source": [
    "# Create a function to calculate Euclidian distance\n",
    "import math"
   ]
  },
  {
   "cell_type": "code",
   "execution_count": 4,
   "metadata": {
    "collapsed": true
   },
   "outputs": [],
   "source": [
    "def get_distance(data1, data2):\n",
    "    points = zip(data1, data2)\n",
    "    diffs_squared_distance = [pow(a - b, 2) for (a, b) in points]\n",
    "    # For each point tuple, measure distance\n",
    "    return math.sqrt(sum(diffs_squared_distance))"
   ]
  },
  {
   "cell_type": "code",
   "execution_count": 5,
   "metadata": {},
   "outputs": [
    {
     "name": "stdout",
     "output_type": "stream",
     "text": [
      "[3, 16, 19, 5, 12] [18, 8, 6, 20, 9]\n",
      "Seperate by appropriate dimension:\n",
      "(3, 18)\n",
      "(16, 8)\n",
      "(19, 6)\n",
      "(5, 20)\n",
      "(12, 9)\n",
      "Euclidean Distance:\n",
      "26.30589287593181\n"
     ]
    }
   ],
   "source": [
    "print(df[1][0], df[0][0])\n",
    "print(\"Seperate by appropriate dimension:\")\n",
    "for x in zip(df[1][0], df[0][0]):\n",
    "    print(x)\n",
    "print(\"Euclidean Distance:\")\n",
    "print(get_distance(df[1][0], df[0][0]))"
   ]
  },
  {
   "cell_type": "code",
   "execution_count": 6,
   "metadata": {
    "collapsed": true
   },
   "outputs": [],
   "source": [
    "# Create the map from the training examples\n",
    "import operator\n",
    "from operator import itemgetter"
   ]
  },
  {
   "cell_type": "code",
   "execution_count": 7,
   "metadata": {
    "collapsed": true
   },
   "outputs": [],
   "source": [
    "def _get_tuple_distance(training_instance, test_instance):\n",
    "    return (training_instance,\n",
    "            get_distance(test_instance, training_instance[0]))\n",
    "    \n",
    "def get_neighbours(training_set, test_instance, k):\n",
    "    distances = [_get_tuple_distance(training_instance, test_instance)\n",
    "                 for training_instance in training_set]\n",
    " \n",
    "    # index 1 is the calculated distance between training_instance\n",
    "    # test_instance\n",
    "    sorted_distances = sorted(distances, key=itemgetter(1))\n",
    " \n",
    "    # extract only training instances\n",
    "    sorted_training_instances = [tuple[0] for tuple in sorted_distances]\n",
    " \n",
    "    # select first k elements\n",
    "    return sorted_training_instances[:k]"
   ]
  },
  {
   "cell_type": "code",
   "execution_count": 8,
   "metadata": {},
   "outputs": [
    {
     "data": {
      "text/plain": [
       "([[18, 8, 6, 20, 9], [1]], 14.317821063276353)"
      ]
     },
     "execution_count": 8,
     "metadata": {},
     "output_type": "execute_result"
    }
   ],
   "source": [
    "_get_tuple_distance(train[0], X_test[0])"
   ]
  },
  {
   "cell_type": "code",
   "execution_count": 9,
   "metadata": {},
   "outputs": [
    {
     "name": "stdout",
     "output_type": "stream",
     "text": [
      "[[[17, 6, 6, 13, 16], [1]], [[18, 8, 6, 20, 9], [1]], [[13, 5, 14, 18, 11], [1]]]\n",
      "[1, 1, 1]\n"
     ]
    }
   ],
   "source": [
    "neigbours = get_neighbours(train, X_test[0], k=3)\n",
    "print(neigbours)\n",
    "gn = []\n",
    "for x in neigbours:\n",
    "    gn.append(x[1][0])\n",
    "print(gn)"
   ]
  },
  {
   "cell_type": "code",
   "execution_count": 10,
   "metadata": {
    "collapsed": true
   },
   "outputs": [],
   "source": [
    "# Assign labels to test set"
   ]
  },
  {
   "cell_type": "code",
   "execution_count": 11,
   "metadata": {
    "collapsed": true
   },
   "outputs": [],
   "source": [
    "from collections import Counter\n",
    "def get_majority_vote(neighbours):\n",
    "    # index 1 is the class\n",
    "    classes = [x[0] for x in [neighbour[1] for neighbour in out]]\n",
    "    count = Counter(classes)\n",
    "    return count.most_common()[0][0] "
   ]
  },
  {
   "cell_type": "code",
   "execution_count": 12,
   "metadata": {
    "collapsed": true
   },
   "outputs": [],
   "source": [
    "out = get_neighbours(train, X_test[0], k=3)"
   ]
  },
  {
   "cell_type": "code",
   "execution_count": 13,
   "metadata": {
    "scrolled": true
   },
   "outputs": [
    {
     "data": {
      "text/plain": [
       "1"
      ]
     },
     "execution_count": 13,
     "metadata": {},
     "output_type": "execute_result"
    }
   ],
   "source": [
    "get_majority_vote(neigbours)"
   ]
  },
  {
   "cell_type": "code",
   "execution_count": 14,
   "metadata": {},
   "outputs": [],
   "source": [
    "from sklearn.metrics import classification_report, accuracy_score\n",
    "\n",
    "predictions = []\n",
    "def predict():\n",
    "    # let's arbitrarily set k equal to 5, meaning that to predict the class of new instances,\n",
    "    k = 5\n",
    " \n",
    "    # for each instance in the test set, get nearest neighbours and majority vote on predicted class\n",
    "    for x in range(len(X_test)):\n",
    " \n",
    "            print('Classifying test instance number ' + str(x) + \":\",)\n",
    "            neighbours = get_neighbours(training_set=train, test_instance=test[x][0], k=5)\n",
    "            majority_vote = get_majority_vote(neighbours)\n",
    "            predictions.append(majority_vote)\n",
    "            print('Predicted label=' + str(majority_vote) + ', Actual label=' + str(test[x][1]))\n",
    " \n",
    "    print(\"\\nPrint predictions:\", predictions)\n",
    "    y_test1= [x[0] for x in y_test] # Unnest nested list\n",
    "    print(\"Print Actual:\", y_test1)\n",
    "    \n",
    "    # summarize performance of the classification\n",
    "    print('\\nThe overall accuracy of the model is:'+ str(accuracy_score(y_test, predictions)) + \"\\n\")\n",
    "    report = classification_report(y_test1, predictions)\n",
    "    print('A detailed classification report: \\n\\n' + report)"
   ]
  },
  {
   "cell_type": "code",
   "execution_count": 15,
   "metadata": {},
   "outputs": [
    {
     "name": "stdout",
     "output_type": "stream",
     "text": [
      "Classifying test instance number 0:\n",
      "Predicted label=1, Actual label=[2]\n",
      "Classifying test instance number 1:\n",
      "Predicted label=1, Actual label=[2]\n",
      "Classifying test instance number 2:\n",
      "Predicted label=1, Actual label=[2]\n",
      "\n",
      "Print predictions: [1, 1, 1]\n",
      "Print Actual: [2, 2, 2]\n",
      "\n",
      "The overall accuracy of the model is:0.0\n",
      "\n",
      "A detailed classification report: \n",
      "\n",
      "             precision    recall  f1-score   support\n",
      "\n",
      "          1       0.00      0.00      0.00         0\n",
      "          2       0.00      0.00      0.00         3\n",
      "\n",
      "avg / total       0.00      0.00      0.00         3\n",
      "\n"
     ]
    },
    {
     "name": "stderr",
     "output_type": "stream",
     "text": [
      "/Users/nicapotato/anaconda/lib/python3.6/site-packages/sklearn/metrics/classification.py:1113: UndefinedMetricWarning: Precision and F-score are ill-defined and being set to 0.0 in labels with no predicted samples.\n",
      "  'precision', 'predicted', average, warn_for)\n",
      "/Users/nicapotato/anaconda/lib/python3.6/site-packages/sklearn/metrics/classification.py:1115: UndefinedMetricWarning: Recall and F-score are ill-defined and being set to 0.0 in labels with no true samples.\n",
      "  'recall', 'true', average, warn_for)\n"
     ]
    }
   ],
   "source": [
    "predict()"
   ]
  },
  {
   "cell_type": "code",
   "execution_count": 16,
   "metadata": {
    "collapsed": true
   },
   "outputs": [],
   "source": [
    "# Other Code"
   ]
  },
  {
   "cell_type": "code",
   "execution_count": 17,
   "metadata": {
    "collapsed": true
   },
   "outputs": [],
   "source": [
    " #KNN prediction and model training\n",
    "# def knn_predict(test_data, train_data, k_value):\n",
    "#     for i in test_data:\n",
    "#         eu_Distance =[]\n",
    "#         knn = []\n",
    "#         good = 0\n",
    " \n",
    "#         bad = 0\n",
    "#         for j in train_data:\n",
    "#             eu_dist = euclideanDist(i, j)\n",
    "#             eu_Distance.append((j[5], eu_dist))\n",
    "#             eu_Distance.sort(key = operator.itemgetter(1))\n",
    "#             knn = eu_Distance[:k_value]\n",
    "#             for k in knn:\n",
    "#                 if k[0] =='g':\n",
    "#                     good += 1\n",
    "#                 else:\n",
    "#                     bad +=1\n",
    "#         if good > bad:\n",
    "#             i.append('g')\n",
    "#         elif good < bad:\n",
    "#             i.append('b')\n",
    "#         else:\n",
    "#             i.append('NaN')"
   ]
  }
 ],
 "metadata": {
  "kernelspec": {
   "display_name": "Python 3",
   "language": "python",
   "name": "python3"
  },
  "language_info": {
   "codemirror_mode": {
    "name": "ipython",
    "version": 3
   },
   "file_extension": ".py",
   "mimetype": "text/x-python",
   "name": "python",
   "nbconvert_exporter": "python",
   "pygments_lexer": "ipython3",
   "version": "3.6.1"
  }
 },
 "nbformat": 4,
 "nbformat_minor": 2
}
