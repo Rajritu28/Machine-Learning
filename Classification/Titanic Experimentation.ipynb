{
 "cells": [
  {
   "cell_type": "markdown",
   "metadata": {
    "_cell_guid": "55f8d49b-b528-426c-8e5b-c31b46dc1bbc",
    "_uuid": "ac6bcc3e16a40dedc8180b4b5ccf684621df9c85",
    "collapsed": true
   },
   "source": [
    "## Correlate the Results:\n",
    "<a id=\"COR\"></a>\n",
    "\n",
    "What does it mean to correlate these values?\n",
    "\n",
    "What if I used a \"match-up\" (\"Accuracy\" between outputs) rate instead?"
   ]
  },
  {
   "cell_type": "code",
   "execution_count": null,
   "metadata": {
    "_cell_guid": "b27b7340-2bfe-403a-b836-1c5bf9a92c2d",
    "_uuid": "e6360797e2934335d107205a417cb2e388e746bd",
    "collapsed": true
   },
   "outputs": [],
   "source": [
    "samplesize = 5\n",
    "\n",
    "# Train Prep\n",
    "train_hard_pred_matrix = train_hard_pred_matrix.set_index([traindex])\n",
    "train_hard_pred_matrix = pd.concat([train_hard_pred_matrix, Survived], axis=1)\n",
    "# Soft\n",
    "train_soft_pred_matrix = train_soft_pred_matrix.set_index([traindex])\n",
    "train_soft_pred_matrix = pd.concat([train_soft_pred_matrix, Survived], axis=1)\n",
    "\n",
    "# Test Prep\n",
    "test_hard_pred_matrix = test_hard_pred_matrix.set_index([testdex])\n",
    "# Soft\n",
    "test_soft_pred_matrix = test_soft_pred_matrix.set_index([testdex])"
   ]
  },
  {
   "cell_type": "code",
   "execution_count": null,
   "metadata": {
    "_cell_guid": "0395e555-deae-4d6d-8a30-9b2024161a75",
    "_uuid": "0a519e533eed468f24b5c9e5804a10366479c078",
    "collapsed": true
   },
   "outputs": [],
   "source": [
    "# View Example\n",
    "train_hard_pred_matrix.sample(samplesize)"
   ]
  },
  {
   "cell_type": "markdown",
   "metadata": {
    "_cell_guid": "236acca8-9696-4e1f-8939-4ba4aae8d484",
    "_uuid": "9c55e8a989c2afc9f86e02aff5b6d140c3cfa793"
   },
   "source": [
    "## Experimental: Introducing the \"Accuracy Matrix\" Heatmap\n",
    "Instead of taking the correlation coefficient, I calculate the accuracy score between models. Purely Experimental."
   ]
  },
  {
   "cell_type": "code",
   "execution_count": null,
   "metadata": {
    "_cell_guid": "17f6aa01-8a58-470e-8fe5-ab68ced10d16",
    "_uuid": "959967b8763857242cbe2531177544bb1d36567b",
    "collapsed": true
   },
   "outputs": [],
   "source": [
    "def accuracy_matrix(data):\n",
    "    df = pd.DataFrame(columns = data.columns, index = data.columns)\n",
    "    for row in data.columns:\n",
    "        for col in data.columns:\n",
    "            df.loc[row,col] = metrics.accuracy_score(data.loc[:,row],data.loc[:,col]).astype(float)\n",
    "    for x in df.columns:\n",
    "        df[x] = df[x].astype(float)\n",
    "    return df"
   ]
  },
  {
   "cell_type": "code",
   "execution_count": null,
   "metadata": {
    "_cell_guid": "7054e574-66bb-4861-8329-feae68a818af",
    "_uuid": "80e5e3c4ce9ef28fc0ba4a839d02900dcd67c0f6",
    "collapsed": true
   },
   "outputs": [],
   "source": [
    "# Hard Train Accuracy Matrix, All Models\n",
    "sns.heatmap(accuracy_matrix(train_hard_pred_matrix), annot=True,cmap=\"coolwarm\")\n",
    "plt.show()"
   ]
  },
  {
   "cell_type": "code",
   "execution_count": null,
   "metadata": {
    "_cell_guid": "8b26268f-d332-49a8-8cd7-bd6e3023c144",
    "_uuid": "7ccfb01c4a965891dbf98bc517f61beb4268a828",
    "collapsed": true
   },
   "outputs": [],
   "source": [
    "# Soft Train Accuracy Matrix, All Models\n",
    "sns.heatmap(accuracy_matrix(train_soft_pred_matrix), annot=True,cmap=\"coolwarm\")\n",
    "plt.show()"
   ]
  },
  {
   "cell_type": "markdown",
   "metadata": {
    "_cell_guid": "f295c742-904c-4917-9d24-c20684b81339",
    "_uuid": "4cd62908b85e8cc06513b37ea195cd863b34c72e"
   },
   "source": [
    "### Test Set Correlation"
   ]
  },
  {
   "cell_type": "code",
   "execution_count": null,
   "metadata": {
    "_cell_guid": "112f5d53-94b1-4548-8f3e-28b945b9ab3e",
    "_uuid": "c0cd7958e04b75538605d8131af8a19210aa23cb",
    "collapsed": true
   },
   "outputs": [],
   "source": [
    "# Soft Test Accuracy Matrix, All Models\n",
    "sns.heatmap(accuracy_matrix(test_hard_pred_matrix), annot=True,cmap=\"coolwarm\")\n",
    "plt.show()"
   ]
  },
  {
   "cell_type": "code",
   "execution_count": null,
   "metadata": {
    "_cell_guid": "95fc12f0-19fe-4861-98ba-36d25c89e2ec",
    "_uuid": "7ccb3859d85ea1e4233adb65de7f675967f59869",
    "collapsed": true
   },
   "outputs": [],
   "source": [
    "# Test Soft Correlation, All Models\n",
    "sns.heatmap(test_soft_pred_matrix.corr(), annot=True, fmt=\".2f\",cmap=\"coolwarm\")\n",
    "plt.show()"
   ]
  },
  {
   "cell_type": "markdown",
   "metadata": {
    "_cell_guid": "96901fe2-942c-4abb-a5ab-9e8e0cba8ea7",
    "_uuid": "790cfb48e485609cd68f1718e07e0cb45b77efc6"
   },
   "source": [
    "## Stacking Pobabilistic Output: [Explore Stacking](https://www.kaggle.com/dongxu027/explore-stacking-lb-0-1463)\n",
    "\n",
    "1. **Mean Stacking**\n",
    "2. **Median Stacking**\n",
    "3. **PushOut + Median Stacking**\n",
    "4. **MinMax + Mean Stacking**\n",
    "5. **MinMax + Median Stacking**\n",
    "6. **MinMax + BestBase Stacking**\n",
    "\n",
    "I wish to combine models based on the accuracy score matrix from the previous section.\n",
    "\n",
    "## In development.."
   ]
  },
  {
   "cell_type": "code",
   "execution_count": null,
   "metadata": {
    "_cell_guid": "874de56b-0d8a-4f8f-b3fa-d6acfbd28881",
    "_uuid": "0141e39501fb5e97930c530051f7bc612ca7c212",
    "collapsed": true
   },
   "outputs": [],
   "source": [
    "trial = train_soft_pred_matrix.copy()"
   ]
  },
  {
   "cell_type": "code",
   "execution_count": null,
   "metadata": {
    "_cell_guid": "57c7cbce-49e4-4541-9fce-cc9ac23970c2",
    "_uuid": "2293105319efc63f40acc51bd79891467ee3f2b3",
    "collapsed": true
   },
   "outputs": [],
   "source": [
    "train_soft_pred_matrix = trial.copy()"
   ]
  },
  {
   "cell_type": "code",
   "execution_count": null,
   "metadata": {
    "_cell_guid": "1a85bc13-14c9-4cfe-992c-bf480b3720ac",
    "_uuid": "57b7d3ea57b857170a2ec2b1b79741e954383b29",
    "collapsed": true
   },
   "outputs": [],
   "source": [
    "# set up cutoff threshold for lower and upper bounds, easy to twist \n",
    "cutoff_lo = 0.8\n",
    "cutoff_hi = 0.2\n",
    "\n",
    "# Gather Descriptive Statistics for Stacking\n",
    "def manual_stack(data):\n",
    "    df = pd.DataFrame()\n",
    "    df['max'] = data.max(axis=1) # axis = By Row\n",
    "    df['min'] = data.min(axis=1)\n",
    "    df['mean'] = data.mean(axis=1)\n",
    "    df['median'] = data.median(axis=1)\n",
    "    return df"
   ]
  },
  {
   "cell_type": "code",
   "execution_count": null,
   "metadata": {
    "_cell_guid": "5c3b5b71-cf12-4142-9971-9c81ab72d59c",
    "_uuid": "c223854461291bba9fa0b8636bc0013368e0a786",
    "collapsed": true
   },
   "outputs": [],
   "source": [
    "stack_results = pd.DataFrame()\n",
    "def satck_evaluation(data, eval_set):\n",
    "    modelname = data.columns\n",
    "    acc = metrics.accuracy_score(data, eval_set)\n",
    "    stack_results = results.append({'Model': \"Stack_{}\".format(modelname),\n",
    "                                    'Test_Score': acc,}, ignore_index=True)"
   ]
  },
  {
   "cell_type": "code",
   "execution_count": null,
   "metadata": {
    "_cell_guid": "e75b8f7e-2cd4-4feb-be05-d222b9ed30fd",
    "_uuid": "9cb70b243512503925d60168d2745826a1d55360",
    "collapsed": true
   },
   "outputs": [],
   "source": [
    "satck_evaluation(train_stacks.iloc[:,:1], y)"
   ]
  },
  {
   "cell_type": "code",
   "execution_count": null,
   "metadata": {
    "_cell_guid": "97aa9014-10e9-4ea9-8658-7445a8644dbb",
    "_uuid": "434465d7721f81c60076199d207e49c869a5c3ff",
    "collapsed": true
   },
   "outputs": [],
   "source": [
    "train_stacks = manual_stack(train_soft_pred_matrix.loc[:,hard_models.Model[:5]])\n",
    "train_stacks.sample(10)"
   ]
  },
  {
   "cell_type": "code",
   "execution_count": null,
   "metadata": {
    "_cell_guid": "cddd9122-87d9-4d8e-bff2-dcd7ea6f4e36",
    "_uuid": "07f3320f120d4f4304032c062314a1a132ee5e19",
    "collapsed": true
   },
   "outputs": [],
   "source": [
    "# concat_sub['is_iceberg'] = concat_sub['is_iceberg_mean']\n",
    "# concat_sub[['id', 'is_iceberg']].to_csv('stack_mean.csv',index=False, float_format='%.6f')"
   ]
  },
  {
   "cell_type": "markdown",
   "metadata": {
    "_cell_guid": "236acca8-9696-4e1f-8939-4ba4aae8d484",
    "_uuid": "9c55e8a989c2afc9f86e02aff5b6d140c3cfa793"
   },
   "source": [
    "## Experimental: Introducing the \"Accuracy Matrix\" Heatmap\n",
    "Instead of taking the correlation coefficient, I calculate the accuracy score between models. Purely Experimental."
   ]
  },
  {
   "cell_type": "code",
   "execution_count": null,
   "metadata": {
    "_cell_guid": "17f6aa01-8a58-470e-8fe5-ab68ced10d16",
    "_uuid": "959967b8763857242cbe2531177544bb1d36567b",
    "collapsed": true
   },
   "outputs": [],
   "source": [
    "def accuracy_matrix(data):\n",
    "    df = pd.DataFrame(columns = data.columns, index = data.columns)\n",
    "    for row in data.columns:\n",
    "        for col in data.columns:\n",
    "            df.loc[row,col] = metrics.accuracy_score(data.loc[:,row],data.loc[:,col]).astype(float)\n",
    "    for x in df.columns:\n",
    "        df[x] = df[x].astype(float)\n",
    "    return df"
   ]
  },
  {
   "cell_type": "code",
   "execution_count": null,
   "metadata": {
    "_cell_guid": "7054e574-66bb-4861-8329-feae68a818af",
    "_uuid": "80e5e3c4ce9ef28fc0ba4a839d02900dcd67c0f6",
    "collapsed": true
   },
   "outputs": [],
   "source": [
    "# Hard Train Accuracy Matrix, All Models\n",
    "sns.heatmap(accuracy_matrix(train_hard_pred_matrix), annot=True,cmap=\"coolwarm\")\n",
    "plt.show()"
   ]
  },
  {
   "cell_type": "code",
   "execution_count": null,
   "metadata": {
    "_cell_guid": "8b26268f-d332-49a8-8cd7-bd6e3023c144",
    "_uuid": "7ccfb01c4a965891dbf98bc517f61beb4268a828",
    "collapsed": true
   },
   "outputs": [],
   "source": [
    "# Soft Train Accuracy Matrix, All Models\n",
    "sns.heatmap(accuracy_matrix(train_soft_pred_matrix), annot=True,cmap=\"coolwarm\")\n",
    "plt.show()"
   ]
  },
  {
   "cell_type": "markdown",
   "metadata": {
    "_cell_guid": "f295c742-904c-4917-9d24-c20684b81339",
    "_uuid": "4cd62908b85e8cc06513b37ea195cd863b34c72e"
   },
   "source": [
    "### Test Set Correlation"
   ]
  },
  {
   "cell_type": "code",
   "execution_count": null,
   "metadata": {
    "_cell_guid": "112f5d53-94b1-4548-8f3e-28b945b9ab3e",
    "_uuid": "c0cd7958e04b75538605d8131af8a19210aa23cb",
    "collapsed": true
   },
   "outputs": [],
   "source": [
    "# Soft Test Accuracy Matrix, All Models\n",
    "sns.heatmap(accuracy_matrix(test_hard_pred_matrix), annot=True,cmap=\"coolwarm\")\n",
    "plt.show()"
   ]
  },
  {
   "cell_type": "code",
   "execution_count": null,
   "metadata": {
    "_cell_guid": "95fc12f0-19fe-4861-98ba-36d25c89e2ec",
    "_uuid": "7ccb3859d85ea1e4233adb65de7f675967f59869",
    "collapsed": true
   },
   "outputs": [],
   "source": [
    "# Test Soft Correlation, All Models\n",
    "sns.heatmap(test_soft_pred_matrix.corr(), annot=True, fmt=\".2f\",cmap=\"coolwarm\")\n",
    "plt.show()"
   ]
  },
  {
   "cell_type": "markdown",
   "metadata": {
    "_cell_guid": "96901fe2-942c-4abb-a5ab-9e8e0cba8ea7",
    "_uuid": "790cfb48e485609cd68f1718e07e0cb45b77efc6"
   },
   "source": [
    "## Stacking Pobabilistic Output: [Explore Stacking](https://www.kaggle.com/dongxu027/explore-stacking-lb-0-1463)\n",
    "\n",
    "1. **Mean Stacking**\n",
    "2. **Median Stacking**\n",
    "3. **PushOut + Median Stacking**\n",
    "4. **MinMax + Mean Stacking**\n",
    "5. **MinMax + Median Stacking**\n",
    "6. **MinMax + BestBase Stacking**\n",
    "\n",
    "I wish to combine models based on the accuracy score matrix from the previous section.\n",
    "\n",
    "## In development.."
   ]
  },
  {
   "cell_type": "code",
   "execution_count": null,
   "metadata": {
    "_cell_guid": "874de56b-0d8a-4f8f-b3fa-d6acfbd28881",
    "_uuid": "0141e39501fb5e97930c530051f7bc612ca7c212",
    "collapsed": true
   },
   "outputs": [],
   "source": [
    "trial = train_soft_pred_matrix.copy()"
   ]
  },
  {
   "cell_type": "code",
   "execution_count": null,
   "metadata": {
    "_cell_guid": "57c7cbce-49e4-4541-9fce-cc9ac23970c2",
    "_uuid": "2293105319efc63f40acc51bd79891467ee3f2b3",
    "collapsed": true
   },
   "outputs": [],
   "source": [
    "train_soft_pred_matrix = trial.copy()"
   ]
  },
  {
   "cell_type": "code",
   "execution_count": null,
   "metadata": {
    "_cell_guid": "1a85bc13-14c9-4cfe-992c-bf480b3720ac",
    "_uuid": "57b7d3ea57b857170a2ec2b1b79741e954383b29",
    "collapsed": true
   },
   "outputs": [],
   "source": [
    "# set up cutoff threshold for lower and upper bounds, easy to twist \n",
    "cutoff_lo = 0.8\n",
    "cutoff_hi = 0.2\n",
    "\n",
    "# Gather Descriptive Statistics for Stacking\n",
    "def manual_stack(data):\n",
    "    df = pd.DataFrame()\n",
    "    df['max'] = data.max(axis=1) # axis = By Row\n",
    "    df['min'] = data.min(axis=1)\n",
    "    df['mean'] = data.mean(axis=1)\n",
    "    df['median'] = data.median(axis=1)\n",
    "    return df"
   ]
  },
  {
   "cell_type": "code",
   "execution_count": null,
   "metadata": {
    "_cell_guid": "5c3b5b71-cf12-4142-9971-9c81ab72d59c",
    "_uuid": "c223854461291bba9fa0b8636bc0013368e0a786",
    "collapsed": true
   },
   "outputs": [],
   "source": [
    "stack_results = pd.DataFrame()\n",
    "def satck_evaluation(data, eval_set):\n",
    "    modelname = data.columns\n",
    "    acc = metrics.accuracy_score(data, eval_set)\n",
    "    stack_results = results.append({'Model': \"Stack_{}\".format(modelname),\n",
    "                                    'Test_Score': acc,}, ignore_index=True)"
   ]
  },
  {
   "cell_type": "code",
   "execution_count": null,
   "metadata": {
    "_cell_guid": "e75b8f7e-2cd4-4feb-be05-d222b9ed30fd",
    "_uuid": "9cb70b243512503925d60168d2745826a1d55360",
    "collapsed": true
   },
   "outputs": [],
   "source": [
    "satck_evaluation(train_stacks.iloc[:,:1], y)"
   ]
  },
  {
   "cell_type": "code",
   "execution_count": null,
   "metadata": {
    "_cell_guid": "97aa9014-10e9-4ea9-8658-7445a8644dbb",
    "_uuid": "434465d7721f81c60076199d207e49c869a5c3ff",
    "collapsed": true
   },
   "outputs": [],
   "source": [
    "train_stacks = manual_stack(train_soft_pred_matrix.loc[:,hard_models.Model[:5]])\n",
    "train_stacks.sample(10)"
   ]
  },
  {
   "cell_type": "code",
   "execution_count": null,
   "metadata": {
    "_cell_guid": "cddd9122-87d9-4d8e-bff2-dcd7ea6f4e36",
    "_uuid": "07f3320f120d4f4304032c062314a1a132ee5e19",
    "collapsed": true
   },
   "outputs": [],
   "source": [
    "# concat_sub['is_iceberg'] = concat_sub['is_iceberg_mean']\n",
    "# concat_sub[['id', 'is_iceberg']].to_csv('stack_mean.csv',index=False, float_format='%.6f')"
   ]
  },
  {
   "cell_type": "markdown",
   "metadata": {
    "_cell_guid": "e1b67c5d-7d74-449f-b1b9-0a2579ebddaa",
    "_uuid": "249bda30124c8c76c654880300f4bf1815fc1458",
    "collapsed": true
   },
   "source": [
    "## Reflection\n",
    "<a id=\"REFL\"></a>\n",
    "A recurrent theme that I have observed is that the accuracy on the testing set is always higher than that of the submission set. This suggests that there is a disconnected representation of the underlying data distributions. A likely contributor to this problem is the quality of pre-processing, whose features appeared to have redundant effects, such as Title and Sex. A quick fix could be dimensionality reduction, but ultimately if proper exploration of features is conducted, then the “garbage in” problem can be minimized.\n",
    "\n",
    "I think for this type of problem, elaborating on the stacked methodology might be key.\n",
    "\n",
    "### On Confusion Matrix\n",
    "Accross the board, most errors are false negatives. The model expected many of the deceased to have survived. This is perhaps why the ensembling only provided minor improvements, since it combined models with the same underlying prediction problem. \n",
    "\n",
    "Note: Deep Learning references are to be taken **LIGHTLY!**, currently reading Ian Goodfellow’s book, so this stuff is on my mind.\n",
    "\n",
    "### Thank You for making it this far! Next, I am thinking of either pursuing a wide application Regression models on another dataset, or doubling down on the exploratory analysis and feature engineering for Titanic! \n",
    "\n",
    "### *What say you?* P.S, Looking for constructive feedback :)"
   ]
  }
 ],
 "metadata": {
  "kernelspec": {
   "display_name": "Python 3",
   "language": "python",
   "name": "python3"
  },
  "language_info": {
   "codemirror_mode": {
    "name": "ipython",
    "version": 3
   },
   "file_extension": ".py",
   "mimetype": "text/x-python",
   "name": "python",
   "nbconvert_exporter": "python",
   "pygments_lexer": "ipython3",
   "version": "3.6.1"
  }
 },
 "nbformat": 4,
 "nbformat_minor": 1
}
