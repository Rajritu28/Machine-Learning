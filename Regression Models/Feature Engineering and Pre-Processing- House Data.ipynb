{
  "cells": [
    {
      "metadata": {
        "_cell_guid": "635c5a0f-3b6c-4127-9623-9a1af7ba005c",
        "_uuid": "de9cef8ced22167e2506b47708ff97a5e72d49c4"
      },
      "cell_type": "markdown",
      "source": "# Feature Engineering and Pre-Processing for House Price Data\n#### By Nick Brooks\n\n### Content: \n- \n"
    },
    {
      "metadata": {
        "_cell_guid": "91a3a6ad-0e27-4c74-9f4a-f9c96b09943e",
        "collapsed": true,
        "_uuid": "8187d0391499df018294c4ccc7efe3313ef34d72",
        "trusted": false
      },
      "cell_type": "code",
      "source": "# Generael\nimport numpy as np\nimport pandas as pd\nimport os\n\n# Visualization\nimport matplotlib.pyplot as plt\n%matplotlib inline\nimport seaborn as sns",
      "execution_count": null,
      "outputs": []
    },
    {
      "metadata": {
        "_cell_guid": "91a8edf1-d094-472e-9364-754a633b3c63",
        "collapsed": true,
        "_uuid": "a3d98cc9b1278fece9ea42de4d8205821148469a",
        "trusted": false
      },
      "cell_type": "code",
      "source": "# Read\ntrain_df = pd.read_csv(\"../input/train.csv\", index_col='Id')\ntest_df = pd.read_csv(\"../input/test.csv\", index_col='Id')\n\n# Combine Train and Test for unified processing\ncombine = [train_df, test_df]",
      "execution_count": null,
      "outputs": []
    },
    {
      "metadata": {
        "_cell_guid": "9006ff3a-9def-4fd9-9a84-7097c70cadc5",
        "_uuid": "6df8f8ddbaa810a7336f9203f4152d3c9597937a",
        "trusted": false,
        "collapsed": true
      },
      "cell_type": "code",
      "source": "pd.options.display.max_rows = 65\ndtype_df = train_df.dtypes.reset_index()\ndtype_df.columns = [\"Count\", \"Column Type\"]\ndtype_df.groupby(\"Column Type\").aggregate('count').sort_values(by=[\"Count\"], ascending=False).plot(kind=\"bar\")\nplt.xticks(rotation=35)\nplt.ylabel('Count')\nplt.title(\"Variable Dtypes\")\nplt.show()",
      "execution_count": null,
      "outputs": []
    },
    {
      "metadata": {
        "_cell_guid": "83f31218-324f-43eb-a9f4-5ae48dfab25e",
        "_uuid": "78e934d6c3323318e363cea114b57b443e243f47",
        "trusted": false,
        "collapsed": true
      },
      "cell_type": "code",
      "source": "object_info = pd.DataFrame()\nnum_info = pd.DataFrame()\n\nfor x in combine[0].columns:\n    # Missing Values Dataframe\n    if combine[0][x].isnull().any() == True:\n        object_info = object_info.append({'Column': x,'dtype': combine[0][x].dtypes,\n        'Count': combine[0][x].count().astype(int),\n        'Missing %':(combine[0][x].isnull().sum()/combine[0].shape[0])*100,\n        'Unique':len(combine[0][x].unique())},ignore_index=True)\n    # Custom Descriptive Statistics Table\n    if combine[0][x].dtype != \"object\" :\n        num_info = num_info.append({'Column': x, 'dtype': combine[0][x].dtypes, 'Count':\n        combine[0][x].count().astype(int), 'Missing %':(combine[0][x].isnull().sum()/combine[0].shape[0])*100,\n        'Unique': len(combine[0][x].unique()), 'Stdev':combine[0][x].std(),\n        'Mean':combine[0][x].mean(), 'Stdev':combine[0][x].std(),\n        'Variance':combine[0][x].var()},ignore_index=True)\nobject_info.sort_values(by=[\"Missing %\"], ascending=False, inplace=True)",
      "execution_count": null,
      "outputs": []
    },
    {
      "metadata": {
        "_cell_guid": "678fbead-2a0a-422a-9d52-91d4c73e22d9",
        "_uuid": "c8232aa5f585bb562e613f2449026a74713a8aa9",
        "trusted": false,
        "collapsed": true
      },
      "cell_type": "code",
      "source": "object_info",
      "execution_count": null,
      "outputs": []
    },
    {
      "metadata": {
        "_cell_guid": "25a03943-1b59-4a43-82c7-bde2d557f6d3",
        "_uuid": "731ebb45bdf7fe1aee798a0669da5bb11f35ee99",
        "trusted": false,
        "collapsed": true
      },
      "cell_type": "code",
      "source": "num_info",
      "execution_count": null,
      "outputs": []
    },
    {
      "metadata": {
        "_cell_guid": "72a36d8f-6057-40b8-a19e-a2bd2d827bb2",
        "_uuid": "f4b8f63d55c8ec8f7752d7b3d6996f7386052fd6"
      },
      "cell_type": "markdown",
      "source": "## Dependent Variable\n\n- Sales Price Matplotlib Histogram\n- Log Sales Price Seaborn Histogram\n\nFairly normally distributed, with a right tail."
    },
    {
      "metadata": {
        "_cell_guid": "5cd8df1c-e466-4ff7-87b9-44a41bf8a6e5",
        "_uuid": "3bfd406e0a2766b7b77934490d3bcf46c9ad28d5",
        "trusted": false,
        "collapsed": true
      },
      "cell_type": "code",
      "source": "# Histogram with Matplotlib\nplt.hist(train_df.SalePrice, normed=True, bins=30)\nplt.xlabel('Sales Price')\nplt.title('Sales Price Histogram')\nplt.ylabel('Frequency');",
      "execution_count": null,
      "outputs": []
    },
    {
      "metadata": {
        "_cell_guid": "92ca3c47-cce0-4d52-b5a6-1d099e6019e1",
        "_uuid": "bd3f5da8b99a8f680e818f6840ab7361586fb1be",
        "trusted": false,
        "collapsed": true
      },
      "cell_type": "code",
      "source": "# Log Histogram with Seaborn\nplt.figure(figsize=(12,8))\nsns.distplot(np.log2(train_df.SalePrice), bins=30, kde=False, rug=True, color=\"g\")\nplt.xlabel('Log Sale Price', fontsize=12)\nplt.ylabel('Count', fontsize=12)\nplt.title(\"Log Sale Price Histogram\",fontsize=30)\nplt.ylim(-25, 300)\nplt.show()",
      "execution_count": null,
      "outputs": []
    },
    {
      "metadata": {
        "_cell_guid": "0443044b-9d49-49a9-b369-1647f079738b",
        "_uuid": "966d037b49768499dd2ec5e578becfdf5d03fe15"
      },
      "cell_type": "markdown",
      "source": "## Missing Values"
    },
    {
      "metadata": {
        "_cell_guid": "83988f35-31f3-4dbc-a341-2f1ec68f1451",
        "collapsed": true,
        "_uuid": "243b5958b75c80ce0ef5474e3ea48362cb3f9577",
        "trusted": false
      },
      "cell_type": "code",
      "source": "# Helpers\n# Proportion Missing Table:\nsettypes= combine[0].dtypes.reset_index()\ndef test_train_mis(test, train):\n    missing_test = test.isnull().sum(axis=0).reset_index()\n    missing_test.columns = ['column_name', 'test_missing_count']\n    missing_test['test_missing_ratio'] = (missing_test['test_missing_count'] / test_df.shape[0])*100\n    missing_train = train.isnull().sum(axis=0).reset_index()\n    missing_train.columns = ['column_name', 'train_missing_count']\n    missing_train['train_missing_ratio'] = (missing_train['train_missing_count'] / train_df.shape[0])*100\n    missing = pd.merge(missing_train, missing_test,\n                       on='column_name', how='outer',indicator=True,)\n    missing = pd.merge(missing,settypes, left_on='column_name', right_on='index',how='inner')\n    missing = missing.loc[(missing['train_missing_ratio']>0) | (missing['test_missing_ratio']>0)]\\\n    .sort_values(by=[\"train_missing_ratio\"], ascending=False)\n    missing['Diff'] = missing.train_missing_ratio - missing.test_missing_ratio\n    return missing\n\ndef missing_plot(train_df):\n    missing_df = train_df.isnull().sum(axis=0).reset_index()\n    missing_df.columns = ['column_name', 'missing_count']\n    missing_df = missing_df.loc[missing_df['missing_count']>0]\n    missing_df = missing_df.sort_values(by='missing_count')\n\n    ind = np.arange(missing_df.shape[0])\n    width = 0.9\n    fig, ax = plt.subplots(figsize=(12,18))\n    rects = ax.barh(ind, missing_df.missing_count.values, color='red')\n    ax.set_yticks(ind)\n    ax.set_yticklabels(missing_df.column_name.values, rotation='horizontal')\n    ax.set_xlabel(\"Count of missing values\")\n    ax.set_title(\"Number of missing values in each column\")\n    plt.show()",
      "execution_count": null,
      "outputs": []
    },
    {
      "metadata": {
        "_cell_guid": "053d8308-00cd-40d2-be92-3e3dc530305f",
        "collapsed": true,
        "_uuid": "60612745669c610f03f92d7ea391d7693293a94f"
      },
      "cell_type": "markdown",
      "source": "## Visualize"
    },
    {
      "metadata": {
        "_cell_guid": "d3149362-06b3-4d0c-bd3d-e22c5c6d1500",
        "_uuid": "14683141f7e71b32f553c9cf0bc7722c13550aff"
      },
      "cell_type": "markdown",
      "source": "Next, I wish to study the difference in missing values between the train and test set."
    },
    {
      "metadata": {
        "_cell_guid": "f57ac538-8b0f-49be-b920-b79eba9d6b5d",
        "_uuid": "a2455a3bdd7abdb7ca4b405d8b1d66e8e87efbe6",
        "trusted": false,
        "collapsed": true
      },
      "cell_type": "code",
      "source": "missing = pd.DataFrame(test_train_mis(combine[0],combine[1]))\nmissing",
      "execution_count": null,
      "outputs": []
    },
    {
      "metadata": {
        "_cell_guid": "8641fc37-2985-4315-b909-2026443d332d",
        "_uuid": "3d16ecd616f0158bc0d280875261d0c7280aa5f1",
        "trusted": false,
        "collapsed": true
      },
      "cell_type": "code",
      "source": "missing.head()",
      "execution_count": null,
      "outputs": []
    },
    {
      "metadata": {
        "_cell_guid": "650188d1-14be-4ae4-bdf9-934363c63bdf",
        "_uuid": "3f1bc27c7299950dba94d539e985cdadcc6aca9e",
        "trusted": false,
        "collapsed": true
      },
      "cell_type": "code",
      "source": "f, (ax1, ax2, ax3) = plt.subplots(1,3,figsize=(15,8), sharey=True)\nax1 = sns.barplot(y =\"column_name\", x =\"train_missing_ratio\", data=missing,ax=ax1)\nax1.set_xlabel('Percent of Data Missing')\nax1.set_title('Train Set Percent Missing')\nax1.set_ylabel('Independent Variables')\n\nax2 = sns.barplot(y =\"column_name\", x =\"Diff\", data=missing,ax=ax2)\nax2.set_xlabel('Test/Train Missing Difference')\nax2.set_title('Test/Train Missing Difference by Variable')\nax2.set_ylabel('')\n\nax3 = sns.barplot(y =\"column_name\", x =\"test_missing_ratio\", data=missing,ax=ax3)\nax3.set_xlabel('Percent of Data Missing')\nax3.set_title('Test Set Percent Missing')\nax3.set_ylabel('')\n\nf.tight_layout(rect=[0, 0.03, 1, 0.95])\nplt.show()\nplt.savefig(\"test-train missing values and diff plot.png\")",
      "execution_count": null,
      "outputs": []
    },
    {
      "metadata": {
        "_cell_guid": "8115611b-e983-4b93-bed8-dba9e38b96c5",
        "collapsed": true,
        "_uuid": "5aba3b89d17265fed0247b99bddc369765028a56",
        "trusted": false
      },
      "cell_type": "code",
      "source": "# Delete Columns with High Missing\nfor i in list(range(len(combine))):\n    combine[i].drop(missing.column_name[(missing.train_missing_ratio > 45) |\n                                        (missing.test_missing_ratio > 45)],\n                    axis=1, inplace=True)",
      "execution_count": null,
      "outputs": []
    },
    {
      "metadata": {
        "_cell_guid": "e88cdc8c-3595-4f60-bcc3-382b508a1f8b",
        "_uuid": "cdcbb38cee4443f6c90bd9dd2625bf42608c7fa9"
      },
      "cell_type": "markdown",
      "source": "## Imputation"
    },
    {
      "metadata": {
        "_cell_guid": "737532ce-9d1f-4e53-b610-cebce589e99c",
        "_uuid": "e0ddf4c1736f9b601dcd70738515241721fc8343",
        "trusted": false,
        "collapsed": true
      },
      "cell_type": "code",
      "source": "for i in list(range(len(combine))):\n    combine[i].loc[:, combine[i].dtypes == float] = combine[i].loc[:, combine[i].dtypes == float].fillna(combine[i].mean())\n    combine[i].loc[:, combine[i].dtypes == object] = combine[i].loc[:, combine[i].dtypes == object].fillna(combine[i].mode().iloc[0])\n    combine[i].loc[:, combine[i].dtypes == int] =combine[i].loc[:, combine[i].dtypes == int].fillna(combine[i].median())\n\nprint(\"Train Missing Values? -> {}\".format(combine[0].isnull().values.any()))\nprint(\"Test Missing Values? -> {}\".format(combine[1].isnull().values.any()))",
      "execution_count": null,
      "outputs": []
    },
    {
      "metadata": {
        "_cell_guid": "f0924d35-bd7c-499c-9609-c41db30deeec",
        "collapsed": true,
        "_uuid": "e21d6fcdea72597d17edb86484c785120edd5760",
        "trusted": false
      },
      "cell_type": "code",
      "source": "\"\"\"\nRETIRED CODE\n\n for dataset in combine:\n     print(np.count_nonzero(dataset.isnull().values.ravel()))\n\n# Dummy Variables\nfor i in list(range(len(combine))):\n    combine[i] = pd.get_dummies(combine[i],\n        columns=combine[i].select_dtypes(include=['object']).columns)\n    \ndiffcols = combine[0].columns.difference(combine[1].columns)\nprint(diffcols)\nSalePrice = combine[0].SalePrice.copy()\ncombine[0] = combine[0].drop(diffcols, axis=1)\n\npd.options.display.max_rows = 65\ndtype_df = combine[0].dtypes.reset_index()\ndtype_df.columns = [\"Count\", \"Column Type\"]\ndtype_df.groupby(\"Column Type\").aggregate('count').reset_index()\n\ncombine[0].columns.equals(combine[1].columns)\n\"\"\"",
      "execution_count": null,
      "outputs": []
    },
    {
      "metadata": {
        "_cell_guid": "5602194e-6b31-4117-b641-32dbf14263c5",
        "_uuid": "63d8eaaff6d4228ca3341d7e5ac58b779cece9fa",
        "trusted": false,
        "collapsed": true
      },
      "cell_type": "code",
      "source": "# Object Variables\ncombine[0].select_dtypes(include=['object']).columns",
      "execution_count": null,
      "outputs": []
    },
    {
      "metadata": {
        "_cell_guid": "7e7693dd-1887-4308-8438-d2892bc9f296",
        "_uuid": "46768ada5526f9738a03a27a7a6aadd011101a42",
        "trusted": false,
        "collapsed": true
      },
      "cell_type": "code",
      "source": "combine[0].shape, combine[1].shape",
      "execution_count": null,
      "outputs": []
    },
    {
      "metadata": {
        "_cell_guid": "91cc47f9-be86-4778-b149-bdf3831f7ec5",
        "collapsed": true,
        "_uuid": "3b6106a7e91162afa31f7c1310bbd185cab31217",
        "trusted": false
      },
      "cell_type": "code",
      "source": "combine[0].to_csv(\"house_train.csv\",header=True,index=True)\ncombine[1].to_csv(\"house_test.csv\",header=True,index=True)",
      "execution_count": null,
      "outputs": []
    }
  ],
  "metadata": {
    "kernelspec": {
      "display_name": "Python 3",
      "language": "python",
      "name": "python3"
    },
    "language_info": {
      "name": "python",
      "version": "3.6.4",
      "mimetype": "text/x-python",
      "codemirror_mode": {
        "name": "ipython",
        "version": 3
      },
      "pygments_lexer": "ipython3",
      "nbconvert_exporter": "python",
      "file_extension": ".py"
    }
  },
  "nbformat": 4,
  "nbformat_minor": 1
}